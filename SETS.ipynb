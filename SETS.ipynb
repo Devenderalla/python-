{
  "nbformat": 4,
  "nbformat_minor": 0,
  "metadata": {
    "colab": {
      "name": "SETS",
      "provenance": [],
      "authorship_tag": "ABX9TyNkIGJI81dsnUL9c3SdRhNo",
      "include_colab_link": true
    },
    "kernelspec": {
      "name": "python3",
      "display_name": "Python 3"
    },
    "language_info": {
      "name": "python"
    }
  },
  "cells": [
    {
      "cell_type": "markdown",
      "metadata": {
        "id": "view-in-github",
        "colab_type": "text"
      },
      "source": [
        "<a href=\"https://colab.research.google.com/github/Devenderalla/python-/blob/main/SETS.ipynb\" target=\"_parent\"><img src=\"https://colab.research.google.com/assets/colab-badge.svg\" alt=\"Open In Colab\"/></a>"
      ]
    },
    {
      "cell_type": "markdown",
      "source": [
        "#set\n"
      ],
      "metadata": {
        "id": "2o5_5LhKWK9z"
      }
    },
    {
      "cell_type": "markdown",
      "source": [
        "#Sets are used to store multiple items in a single variable."
      ],
      "metadata": {
        "id": "KE0IdYl1WQYp"
      }
    },
    {
      "cell_type": "code",
      "source": [
        "a={\"kgf\",\"rrr\",\"gani\"}\n",
        "print(a)"
      ],
      "metadata": {
        "colab": {
          "base_uri": "https://localhost:8080/"
        },
        "id": "a_GfWTfUWVFZ",
        "outputId": "98d69fe0-92ba-48c8-ee88-984a402d90f3"
      },
      "execution_count": 1,
      "outputs": [
        {
          "output_type": "stream",
          "name": "stdout",
          "text": [
            "{'kgf', 'rrr', 'gani'}\n"
          ]
        }
      ]
    },
    {
      "cell_type": "markdown",
      "source": [
        "#Set Items"
      ],
      "metadata": {
        "id": "S0oXq-LdWyXp"
      }
    },
    {
      "cell_type": "markdown",
      "source": [
        "#Set items are unordered, unchangeable, and do not allow duplicate values."
      ],
      "metadata": {
        "id": "KIbPtfN3Wz66"
      }
    },
    {
      "cell_type": "markdown",
      "source": [
        "\n",
        "# Duplicates Not Allowed"
      ],
      "metadata": {
        "id": "iWk8qk8GW6Gz"
      }
    },
    {
      "cell_type": "markdown",
      "source": [
        "#Sets cannot have two items with the same value."
      ],
      "metadata": {
        "id": "9cR9teU0Xo0R"
      }
    },
    {
      "cell_type": "code",
      "source": [
        "a={\"kgf\",\"rrr\",\"gani\",\"kgf\"}\n",
        "print(a)"
      ],
      "metadata": {
        "colab": {
          "base_uri": "https://localhost:8080/"
        },
        "id": "tAMFcb9cXsLo",
        "outputId": "622b3f29-8715-4500-ba81-579c9a77a5c6"
      },
      "execution_count": 2,
      "outputs": [
        {
          "output_type": "stream",
          "name": "stdout",
          "text": [
            "{'kgf', 'rrr', 'gani'}\n"
          ]
        }
      ]
    },
    {
      "cell_type": "markdown",
      "source": [
        "#length of a set"
      ],
      "metadata": {
        "id": "vEY2lI7UYIJS"
      }
    },
    {
      "cell_type": "code",
      "source": [
        "a={\"kgf\",\"rrr\",\"gani\"}\n",
        "print(len(a))"
      ],
      "metadata": {
        "colab": {
          "base_uri": "https://localhost:8080/"
        },
        "id": "taW0CutLYONS",
        "outputId": "ed97c925-c067-422c-e172-07ea7b7c8939"
      },
      "execution_count": 3,
      "outputs": [
        {
          "output_type": "stream",
          "name": "stdout",
          "text": [
            "3\n"
          ]
        }
      ]
    },
    {
      "cell_type": "markdown",
      "source": [
        "#Set Items - Data Types"
      ],
      "metadata": {
        "id": "pp3cAVDlY01Y"
      }
    },
    {
      "cell_type": "markdown",
      "source": [
        "#Set items can be of any data type:"
      ],
      "metadata": {
        "id": "H5bw13lMY6z4"
      }
    },
    {
      "cell_type": "code",
      "source": [
        "set1={\"kgf\",\"rrr\",\"gani\"}\n",
        "set2={1,4,6,8,3,4}\n",
        "set3={True,True,False}\n",
        "print(set1)\n",
        "print(set2)\n",
        "print(set3)"
      ],
      "metadata": {
        "colab": {
          "base_uri": "https://localhost:8080/"
        },
        "id": "oQed0mo4Y4NA",
        "outputId": "3a08eaae-4d65-4d0e-d2e4-191c2de5ac1b"
      },
      "execution_count": 6,
      "outputs": [
        {
          "output_type": "stream",
          "name": "stdout",
          "text": [
            "{'kgf', 'rrr', 'gani'}\n",
            "{1, 3, 4, 6, 8}\n",
            "{False, True}\n"
          ]
        }
      ]
    },
    {
      "cell_type": "markdown",
      "source": [
        "#A set with strings, integers and boolean values:"
      ],
      "metadata": {
        "id": "XD_vUFKYaIqQ"
      }
    },
    {
      "cell_type": "code",
      "source": [
        "set1={\"abc\",44,True,67,\"Female\"}\n",
        "print(set1)"
      ],
      "metadata": {
        "colab": {
          "base_uri": "https://localhost:8080/"
        },
        "id": "Hx4aNhfranwG",
        "outputId": "ea88db78-8a7b-450d-ed86-013939dc1228"
      },
      "execution_count": 8,
      "outputs": [
        {
          "output_type": "stream",
          "name": "stdout",
          "text": [
            "{True, 67, 'Female', 44, 'abc'}\n"
          ]
        }
      ]
    },
    {
      "cell_type": "markdown",
      "source": [
        "#type()"
      ],
      "metadata": {
        "id": "-2pYgIaTbMcf"
      }
    },
    {
      "cell_type": "code",
      "source": [
        "a={\"kgf\",\"rrr\",\"gani\"}\n",
        "print(type(a))"
      ],
      "metadata": {
        "colab": {
          "base_uri": "https://localhost:8080/"
        },
        "id": "7hsFA6e5bOyf",
        "outputId": "e881c1c1-305e-4f8f-c55e-3853f52028a2"
      },
      "execution_count": 9,
      "outputs": [
        {
          "output_type": "stream",
          "name": "stdout",
          "text": [
            "<class 'set'>\n"
          ]
        }
      ]
    },
    {
      "cell_type": "markdown",
      "source": [
        "#The set() Constructor"
      ],
      "metadata": {
        "id": "5gMcA17ccLfn"
      }
    },
    {
      "cell_type": "code",
      "source": [
        "a=set((\"kgf\",\"rrr\",\"gani\"))# note the double round-brackets\n",
        "print(a)"
      ],
      "metadata": {
        "colab": {
          "base_uri": "https://localhost:8080/"
        },
        "id": "UPPu5wJcbmRO",
        "outputId": "fcbf30ab-cee7-440f-fbd8-053ca11031e9"
      },
      "execution_count": 10,
      "outputs": [
        {
          "output_type": "stream",
          "name": "stdout",
          "text": [
            "{'kgf', 'rrr', 'gani'}\n"
          ]
        }
      ]
    },
    {
      "cell_type": "markdown",
      "source": [
        "#Add Items"
      ],
      "metadata": {
        "id": "7qnaRsh5cm6-"
      }
    },
    {
      "cell_type": "markdown",
      "source": [
        "#Once a set is created, you cannot change its items, but you can add new items."
      ],
      "metadata": {
        "id": "gS5Sw4jJd622"
      }
    },
    {
      "cell_type": "code",
      "source": [
        "a={\"kgf\",\"rrr\",\"gani\"}\n",
        "a.add(\"svp\")\n",
        "print(a)"
      ],
      "metadata": {
        "colab": {
          "base_uri": "https://localhost:8080/"
        },
        "id": "U4_sSUm8d9rF",
        "outputId": "8281e213-0308-45ce-8f22-407af3e8cc9f"
      },
      "execution_count": 11,
      "outputs": [
        {
          "output_type": "stream",
          "name": "stdout",
          "text": [
            "{'kgf', 'rrr', 'gani', 'svp'}\n"
          ]
        }
      ]
    },
    {
      "cell_type": "markdown",
      "source": [
        "#Add Sets"
      ],
      "metadata": {
        "id": "PPhREBWseqjd"
      }
    },
    {
      "cell_type": "markdown",
      "source": [
        "#To add items from another set into the current set, use the update() method."
      ],
      "metadata": {
        "id": "39K8GwgbezUt"
      }
    },
    {
      "cell_type": "code",
      "source": [
        "a={\"kgf\",\"rrr\",\"gani\"}\n",
        "b={\"puspa\",\"major\",\"beast\"}\n",
        "a.update(b)\n",
        "print(a)"
      ],
      "metadata": {
        "colab": {
          "base_uri": "https://localhost:8080/"
        },
        "id": "G-bc3ih5e58N",
        "outputId": "9f770cca-671c-49d5-e749-1b7d1443ca7a"
      },
      "execution_count": 12,
      "outputs": [
        {
          "output_type": "stream",
          "name": "stdout",
          "text": [
            "{'kgf', 'beast', 'puspa', 'major', 'rrr', 'gani'}\n"
          ]
        }
      ]
    }
  ]
}