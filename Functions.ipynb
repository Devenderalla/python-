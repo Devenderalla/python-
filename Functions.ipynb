{
  "nbformat": 4,
  "nbformat_minor": 0,
  "metadata": {
    "colab": {
      "name": "Functions.ipynb",
      "provenance": [],
      "authorship_tag": "ABX9TyP/LXkwD8mxje/Jb3/iJ96X",
      "include_colab_link": true
    },
    "kernelspec": {
      "name": "python3",
      "display_name": "Python 3"
    },
    "language_info": {
      "name": "python"
    }
  },
  "cells": [
    {
      "cell_type": "markdown",
      "metadata": {
        "id": "view-in-github",
        "colab_type": "text"
      },
      "source": [
        "<a href=\"https://colab.research.google.com/github/Devenderalla/python-/blob/main/Functions.ipynb\" target=\"_parent\"><img src=\"https://colab.research.google.com/assets/colab-badge.svg\" alt=\"Open In Colab\"/></a>"
      ]
    },
    {
      "cell_type": "code",
      "execution_count": null,
      "metadata": {
        "colab": {
          "base_uri": "https://localhost:8080/"
        },
        "id": "53pitmF1XD7g",
        "outputId": "acc4c37d-0181-4c49-a7e4-4fb8d89fb327"
      },
      "outputs": [
        {
          "output_type": "stream",
          "name": "stdout",
          "text": [
            "hay\n",
            "hm\n",
            "ok\n"
          ]
        }
      ],
      "source": [
        "def dev():\n",
        " print(\"hay\")\n",
        " print(\"hm\")\n",
        " print(\"ok\")\n",
        "dev()"
      ]
    },
    {
      "cell_type": "code",
      "source": [
        "def vote(age,gender,name):\n",
        " print(age,gender,name)\n",
        "vote(18,\"male\",\"dev\")"
      ],
      "metadata": {
        "colab": {
          "base_uri": "https://localhost:8080/"
        },
        "id": "-W8w9O1LZmZM",
        "outputId": "de84157b-3ab8-48ed-e992-480132c11372"
      },
      "execution_count": null,
      "outputs": [
        {
          "output_type": "stream",
          "name": "stdout",
          "text": [
            "18 male dev\n"
          ]
        }
      ]
    },
    {
      "cell_type": "markdown",
      "source": [
        "#Arguments"
      ],
      "metadata": {
        "id": "-AqlZZGcIba_"
      }
    },
    {
      "cell_type": "code",
      "source": [
        "def name(ok):\n",
        " print(ok + \"kgf\")\n",
        "name(\"Emil\")\n",
        "name(\"Tobias\")\n",
        "name(\"Linus\")"
      ],
      "metadata": {
        "colab": {
          "base_uri": "https://localhost:8080/"
        },
        "id": "CzeN-tJQIc_X",
        "outputId": "d24417e9-0e26-4d66-aebe-913ada95ab29"
      },
      "execution_count": 11,
      "outputs": [
        {
          "output_type": "stream",
          "name": "stdout",
          "text": [
            "Emilkgf\n",
            "Tobiaskgf\n",
            "Linuskgf\n"
          ]
        }
      ]
    },
    {
      "cell_type": "markdown",
      "source": [
        "#Arbitrary Arguments, *args"
      ],
      "metadata": {
        "id": "J4BnmHYbQcL1"
      }
    },
    {
      "cell_type": "code",
      "source": [
        "def child(*kids):\n",
        "  print(\"The youngest child is \" + kids[2])\n",
        "\n",
        "child(\"Emil\", \"Tobias\", \"Linus\")\n"
      ],
      "metadata": {
        "colab": {
          "base_uri": "https://localhost:8080/"
        },
        "id": "Vcs3DzyEQa-G",
        "outputId": "f07c9bbd-61d5-46a4-f0d5-6518e584f3f4"
      },
      "execution_count": 12,
      "outputs": [
        {
          "output_type": "stream",
          "name": "stdout",
          "text": [
            "The youngest child is Linus\n"
          ]
        }
      ]
    },
    {
      "cell_type": "markdown",
      "source": [
        "#Keyword Arguments\n",
        "You can also send arguments with the key = value syntax."
      ],
      "metadata": {
        "id": "9G5W3urhRF3K"
      }
    },
    {
      "cell_type": "code",
      "source": [
        "def name(child3, child2, child1):\n",
        "  print(\"The youngest child is \" + child3)\n",
        "\n",
        "name(child1 = \"Emil\", child2 = \"Tobias\", child3 = \"Linus\")\n"
      ],
      "metadata": {
        "colab": {
          "base_uri": "https://localhost:8080/"
        },
        "id": "z8RMREf4RN8U",
        "outputId": "cb06e710-ded4-4f79-ce5f-9e43b96f2229"
      },
      "execution_count": 13,
      "outputs": [
        {
          "output_type": "stream",
          "name": "stdout",
          "text": [
            "The youngest child is Linus\n"
          ]
        }
      ]
    },
    {
      "cell_type": "markdown",
      "source": [
        "#Return Values"
      ],
      "metadata": {
        "id": "pDZGqNHvWB-v"
      }
    },
    {
      "cell_type": "code",
      "source": [
        "def num(x):\n",
        "  return 5 * x\n",
        "\n",
        "print(num(4))\n",
        "print(num(94))\n",
        "print(num(0))\n"
      ],
      "metadata": {
        "colab": {
          "base_uri": "https://localhost:8080/"
        },
        "id": "xx7YQ5WZWDF3",
        "outputId": "7a7b538f-10b1-4b67-c851-2ab2aae4a186"
      },
      "execution_count": 16,
      "outputs": [
        {
          "output_type": "stream",
          "name": "stdout",
          "text": [
            "20\n",
            "470\n",
            "0\n"
          ]
        }
      ]
    },
    {
      "cell_type": "markdown",
      "source": [
        "#Recursion"
      ],
      "metadata": {
        "id": "hb6_oKzQW-wN"
      }
    },
    {
      "cell_type": "code",
      "source": [
        ""
      ],
      "metadata": {
        "id": "djqVChcCXJne"
      },
      "execution_count": null,
      "outputs": []
    }
  ]
}