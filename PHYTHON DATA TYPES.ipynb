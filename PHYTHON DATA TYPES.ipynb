{
 "cells": [
  {
   "cell_type": "markdown",
   "id": "0080203a",
   "metadata": {},
   "source": [
    "# DATA TYPE IN PYHON"
   ]
  },
  {
   "cell_type": "markdown",
   "id": "4ce589c8",
   "metadata": {},
   "source": [
    "## CONVERTING INT TO STRING,FLOAT,BOOLEAN,COMPLEX"
   ]
  },
  {
   "cell_type": "code",
   "execution_count": 1,
   "id": "8f1bc5b7",
   "metadata": {
    "scrolled": true
   },
   "outputs": [
    {
     "name": "stdout",
     "output_type": "stream",
     "text": [
      "10\n",
      "<class 'int'>\n",
      "10\n",
      "<class 'str'>\n",
      "10.0\n",
      "<class 'float'>\n",
      "True\n",
      "<class 'bool'>\n",
      "(10+0j)\n",
      "<class 'complex'>\n"
     ]
    }
   ],
   "source": [
    "a=10\n",
    "print(a)\n",
    "#before convertion after convertion\n",
    "print(type(a))\n",
    "b=str(a)\n",
    "print(b)\n",
    "print(type(b))\n",
    "c=float(a)\n",
    "print(c)\n",
    "print(type(c))\n",
    "d=bool(a)\n",
    "print(d)\n",
    "print(type(d))\n",
    "e=complex(a)\n",
    "print(e)\n",
    "print(type(e))"
   ]
  },
  {
   "cell_type": "markdown",
   "id": "6fa9929d",
   "metadata": {},
   "source": [
    "## CONVERTING STRING TO INT,FLOAT,BOOLEAN,COMPLEX"
   ]
  },
  {
   "cell_type": "code",
   "execution_count": 2,
   "id": "71bd6cbb",
   "metadata": {},
   "outputs": [
    {
     "name": "stdout",
     "output_type": "stream",
     "text": [
      "10\n",
      "<class 'str'>\n",
      "10\n",
      "<class 'int'>\n",
      "10.0\n",
      "<class 'float'>\n",
      "True\n",
      "<class 'bool'>\n",
      "(10+0j)\n",
      "<class 'complex'>\n"
     ]
    }
   ],
   "source": [
    "a='10'\n",
    "print(a)\n",
    "print(type(a))\n",
    "b=int(a)\n",
    "print(b)\n",
    "print(type(b))\n",
    "#can't convert alphabets into \n",
    "c=float(a)\n",
    "print(c)\n",
    "print(type(c))\n",
    "d=bool(a)\n",
    "print(d)\n",
    "print(type(d))\n",
    "e=complex(a)\n",
    "print(e)\n",
    "print(type(e))"
   ]
  },
  {
   "cell_type": "markdown",
   "id": "c8c88121",
   "metadata": {},
   "source": [
    "## CONVERTING FLOAT TO INT,STRING,BOOLEAN,COMPLEX"
   ]
  },
  {
   "cell_type": "code",
   "execution_count": 3,
   "id": "d83355b0",
   "metadata": {},
   "outputs": [
    {
     "name": "stdout",
     "output_type": "stream",
     "text": [
      "10.0\n",
      "<class 'float'>\n",
      "10\n",
      "<class 'int'>\n",
      "10.0\n",
      "<class 'str'>\n",
      "True\n",
      "<class 'bool'>\n",
      "(10+0j)\n",
      "<class 'complex'>\n"
     ]
    }
   ],
   "source": [
    "a=10.0\n",
    "print(a)\n",
    "print(type(a))\n",
    "b=int(a)\n",
    "print(b)\n",
    "print(type(b))\n",
    "c=str(a)\n",
    "print(c)\n",
    "print(type(c))\n",
    "d=bool(a)\n",
    "print(d)\n",
    "print(type(d))\n",
    "e=complex(a)\n",
    "print(e)\n",
    "print(type(e))\n",
    "\n",
    "\n"
   ]
  },
  {
   "cell_type": "markdown",
   "id": "7eaf47a9",
   "metadata": {},
   "source": [
    "## CONVERTING BOOLEAN TO INT, STRING, FLOAT ,COMPLEX"
   ]
  },
  {
   "cell_type": "code",
   "execution_count": 6,
   "id": "42434418",
   "metadata": {},
   "outputs": [
    {
     "name": "stdout",
     "output_type": "stream",
     "text": [
      "True\n",
      "<class 'bool'>\n",
      "1\n",
      "<class 'int'>\n",
      "True\n",
      "<class 'str'>\n",
      "1.0\n",
      "<class 'float'>\n",
      "(1+0j)\n",
      "<class 'complex'>\n"
     ]
    }
   ],
   "source": [
    "a=10>0\n",
    "print(a)\n",
    "print(type(a))\n",
    "b=int(a)\n",
    "print(b)\n",
    "print(type(b))\n",
    "c=str(a)\n",
    "print(c)\n",
    "print(type(c))\n",
    "d=float(a)\n",
    "print(d)\n",
    "print(type(d))\n",
    "e=complex(a)\n",
    "print(e)\n",
    "print(type(e))"
   ]
  },
  {
   "cell_type": "markdown",
   "id": "69e3acd8",
   "metadata": {},
   "source": [
    "## CONVERTING COMPLEX TO INT, STRING, FLOAT ,BOOLEAN"
   ]
  },
  {
   "cell_type": "code",
   "execution_count": 10,
   "id": "35c064ec",
   "metadata": {},
   "outputs": [
    {
     "name": "stdout",
     "output_type": "stream",
     "text": [
      "(10+0j)\n",
      "<class 'complex'>\n"
     ]
    },
    {
     "ename": "TypeError",
     "evalue": "can't convert complex to int",
     "output_type": "error",
     "traceback": [
      "\u001b[1;31m---------------------------------------------------------------------------\u001b[0m",
      "\u001b[1;31mTypeError\u001b[0m                                 Traceback (most recent call last)",
      "\u001b[1;32m~\\AppData\\Local\\Temp/ipykernel_5232/1149242101.py\u001b[0m in \u001b[0;36m<module>\u001b[1;34m\u001b[0m\n\u001b[0;32m      2\u001b[0m \u001b[0mprint\u001b[0m\u001b[1;33m(\u001b[0m\u001b[0ma\u001b[0m\u001b[1;33m)\u001b[0m\u001b[1;33m\u001b[0m\u001b[1;33m\u001b[0m\u001b[0m\n\u001b[0;32m      3\u001b[0m \u001b[0mprint\u001b[0m\u001b[1;33m(\u001b[0m\u001b[0mtype\u001b[0m\u001b[1;33m(\u001b[0m\u001b[0ma\u001b[0m\u001b[1;33m)\u001b[0m\u001b[1;33m)\u001b[0m\u001b[1;33m\u001b[0m\u001b[1;33m\u001b[0m\u001b[0m\n\u001b[1;32m----> 4\u001b[1;33m \u001b[0mb\u001b[0m\u001b[1;33m=\u001b[0m\u001b[0mint\u001b[0m\u001b[1;33m(\u001b[0m\u001b[0ma\u001b[0m\u001b[1;33m)\u001b[0m\u001b[1;33m\u001b[0m\u001b[1;33m\u001b[0m\u001b[0m\n\u001b[0m\u001b[0;32m      5\u001b[0m \u001b[0mprint\u001b[0m\u001b[1;33m(\u001b[0m\u001b[0mb\u001b[0m\u001b[1;33m)\u001b[0m\u001b[1;33m\u001b[0m\u001b[1;33m\u001b[0m\u001b[0m\n\u001b[0;32m      6\u001b[0m \u001b[0mprint\u001b[0m\u001b[1;33m(\u001b[0m\u001b[0mtype\u001b[0m\u001b[1;33m(\u001b[0m\u001b[0mb\u001b[0m\u001b[1;33m)\u001b[0m\u001b[1;33m)\u001b[0m\u001b[1;33m\u001b[0m\u001b[1;33m\u001b[0m\u001b[0m\n",
      "\u001b[1;31mTypeError\u001b[0m: can't convert complex to int"
     ]
    }
   ],
   "source": [
    "a=10+0j\n",
    "print(a)\n",
    "print(type(a))\n",
    "b=int(a)\n",
    "print(b)\n",
    "print(type(b))\n",
    "c=str(a)\n",
    "print(c)\n",
    "print(type(c))\n",
    "d=float(a)\n",
    "print(d)\n",
    "print(type(d))\n",
    "e=bool(a)\n",
    "print(e)\n",
    "print(type(e))"
   ]
  },
  {
   "cell_type": "code",
   "execution_count": null,
   "id": "fb94aeff",
   "metadata": {},
   "outputs": [],
   "source": []
  }
 ],
 "metadata": {
  "kernelspec": {
   "display_name": "Python 3 (ipykernel)",
   "language": "python",
   "name": "python3"
  },
  "language_info": {
   "codemirror_mode": {
    "name": "ipython",
    "version": 3
   },
   "file_extension": ".py",
   "mimetype": "text/x-python",
   "name": "python",
   "nbconvert_exporter": "python",
   "pygments_lexer": "ipython3",
   "version": "3.9.7"
  }
 },
 "nbformat": 4,
 "nbformat_minor": 5
}
