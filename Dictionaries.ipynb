{
  "nbformat": 4,
  "nbformat_minor": 0,
  "metadata": {
    "colab": {
      "name": "Dictionaries",
      "provenance": [],
      "authorship_tag": "ABX9TyN1GjWMtvBdbSY5tQ5YsBkF",
      "include_colab_link": true
    },
    "kernelspec": {
      "name": "python3",
      "display_name": "Python 3"
    },
    "language_info": {
      "name": "python"
    }
  },
  "cells": [
    {
      "cell_type": "markdown",
      "metadata": {
        "id": "view-in-github",
        "colab_type": "text"
      },
      "source": [
        "<a href=\"https://colab.research.google.com/github/Devenderalla/python-/blob/main/Dictionaries.ipynb\" target=\"_parent\"><img src=\"https://colab.research.google.com/assets/colab-badge.svg\" alt=\"Open In Colab\"/></a>"
      ]
    },
    {
      "cell_type": "markdown",
      "source": [
        "#Dictionary"
      ],
      "metadata": {
        "id": "irdDhHu0iXUN"
      }
    },
    {
      "cell_type": "markdown",
      "source": [
        "#Dictionaries are used to store data values in key:value pairs.\n",
        "\n",
        "A dictionary is a collection which is ordered*, changeable and do not allow duplicates."
      ],
      "metadata": {
        "id": "CLlUNq0xia8y"
      }
    },
    {
      "cell_type": "code",
      "source": [
        "placement={\n",
        "    \"name\":\"dev\",\n",
        "    \"age\":\"18\",\n",
        "    \"CGPA\":\"8.6\",\n",
        "    \"number\":9398126791\n",
        "}\n",
        "print(placement)\n",
        "print(placement[\"age\"])"
      ],
      "metadata": {
        "colab": {
          "base_uri": "https://localhost:8080/"
        },
        "id": "IwSvD3RBi_y0",
        "outputId": "4428d1ff-6be4-4e58-e004-e104373a164d"
      },
      "execution_count": 3,
      "outputs": [
        {
          "output_type": "stream",
          "name": "stdout",
          "text": [
            "{'name': 'dev', 'age': '18', 'CGPA': '8.6', 'number': 9398126791}\n",
            "18\n"
          ]
        }
      ]
    },
    {
      "cell_type": "markdown",
      "source": [
        ""
      ],
      "metadata": {
        "id": "NSY6u398kQ0i"
      }
    }
  ]
}