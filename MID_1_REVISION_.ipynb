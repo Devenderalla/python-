{
  "nbformat": 4,
  "nbformat_minor": 0,
  "metadata": {
    "colab": {
      "name": "MID 1 REVISION .ipynb",
      "provenance": [],
      "authorship_tag": "ABX9TyOoPlOALQUFp8XuexLRB5ah",
      "include_colab_link": true
    },
    "kernelspec": {
      "name": "python3",
      "display_name": "Python 3"
    },
    "language_info": {
      "name": "python"
    }
  },
  "cells": [
    {
      "cell_type": "markdown",
      "metadata": {
        "id": "view-in-github",
        "colab_type": "text"
      },
      "source": [
        "<a href=\"https://colab.research.google.com/github/Devenderalla/python-/blob/main/MID_1_REVISION_.ipynb\" target=\"_parent\"><img src=\"https://colab.research.google.com/assets/colab-badge.svg\" alt=\"Open In Colab\"/></a>"
      ]
    },
    {
      "cell_type": "markdown",
      "source": [
        "##prime number in given range using functions"
      ],
      "metadata": {
        "id": "eOqB0yQHtOod"
      }
    },
    {
      "cell_type": "code",
      "source": [
        "a=25\n",
        "b=50\n",
        "print(\"prime num between\",a,\"and\",b,\"are : \")\n",
        "for num in range (a,b+1):\n",
        "  if num>1:\n",
        "    for i in range(2,num):\n",
        "      if(num%i)==0:\n",
        "        break\n",
        "    else:\n",
        "          print(num)"
      ],
      "metadata": {
        "colab": {
          "base_uri": "https://localhost:8080/",
          "height": 0
        },
        "id": "GF4xMEknei5t",
        "outputId": "9695aadf-be98-41a7-dd07-8ca48f459896"
      },
      "execution_count": 1,
      "outputs": [
        {
          "output_type": "stream",
          "name": "stdout",
          "text": [
            "prime num between 25 and 50 are : \n",
            "29\n",
            "31\n",
            "37\n",
            "41\n",
            "43\n",
            "47\n"
          ]
        }
      ]
    },
    {
      "cell_type": "markdown",
      "source": [
        "#write a python programe to captalise first letter and last letter"
      ],
      "metadata": {
        "id": "o3ClT_5Ms6Rl"
      }
    },
    {
      "cell_type": "code",
      "source": [
        "a=str(input())\n",
        "n=a.split()\n",
        "for i in n:\n",
        "  b=i.capitalize()\n",
        "  c=i[-1].capitalize()\n",
        "  s=b[0:-1]+c\n",
        "  print(s,end=\" \")"
      ],
      "metadata": {
        "colab": {
          "base_uri": "https://localhost:8080/"
        },
        "id": "yZlKo8a2s3PO",
        "outputId": "51019bb9-2301-411a-e12c-542076c6dc16"
      },
      "execution_count": null,
      "outputs": [
        {
          "output_type": "stream",
          "name": "stdout",
          "text": [
            "indian movies\n",
            "IndiaN MovieS "
          ]
        }
      ]
    },
    {
      "cell_type": "markdown",
      "source": [
        "#To read any month in integer and display days for the month."
      ],
      "metadata": {
        "id": "zDZyHV5UtR4l"
      }
    },
    {
      "cell_type": "code",
      "source": [
        "def month(x):\n",
        "  if x==1 or x==3 or x==5 or x==7 or x==8 or x==10 or x==12:\n",
        "    print(\"31 days\")\n",
        "  elif x==2:\n",
        "    print(\"28/29 days\")\n",
        "  elif x==4 or x==6 or x==9 or x==11:\n",
        "    print(\"30 days\")\n",
        "  else:\n",
        "    print(\"enter valid month number\")\n",
        "a=int(input(\"enter valid month number\"))\n",
        "month(a)"
      ],
      "metadata": {
        "colab": {
          "base_uri": "https://localhost:8080/"
        },
        "id": "-sg_gs0dtVm0",
        "outputId": "ab34baab-a14c-40bc-a14f-55e893703758"
      },
      "execution_count": null,
      "outputs": [
        {
          "output_type": "stream",
          "name": "stdout",
          "text": [
            "enter valid month number5\n",
            "31 days\n"
          ]
        }
      ]
    },
    {
      "cell_type": "markdown",
      "source": [
        "#wrap to read a string from the user and display first letter of each word with captail letter"
      ],
      "metadata": {
        "id": "ZA2IexiCtaIV"
      }
    },
    {
      "cell_type": "code",
      "source": [
        "a=str(input())\n",
        "n=a.split()\n",
        "s=\"\"\n",
        "for i in n:\n",
        "  s=i.capitalize()\n",
        "  print(s,end=' ')"
      ],
      "metadata": {
        "colab": {
          "base_uri": "https://localhost:8080/"
        },
        "id": "zyvGDiSytsuV",
        "outputId": "32669fc4-a96d-453a-c1cf-0b18ca4c692d"
      },
      "execution_count": null,
      "outputs": [
        {
          "output_type": "stream",
          "name": "stdout",
          "text": [
            "indian movies\n",
            "Indian Movies "
          ]
        }
      ]
    },
    {
      "cell_type": "code",
      "source": [
        "#To print even length words in a string\n",
        "def even(n):\n",
        "  a=n.split()\n",
        "  for i in a:\n",
        "    if(len(i)%2==0):\n",
        "      return(i)\n",
        "    else:\n",
        "      pass\n",
        "n=str(input())\n",
        "print(even(n))\n",
        "\n"
      ],
      "metadata": {
        "id": "rgPHFG0Gudp2",
        "colab": {
          "base_uri": "https://localhost:8080/"
        },
        "outputId": "c8755e48-c28f-464b-cc17-5d4d09051bbb"
      },
      "execution_count": null,
      "outputs": [
        {
          "output_type": "stream",
          "name": "stdout",
          "text": [
            "ok\n",
            "ok\n"
          ]
        }
      ]
    },
    {
      "cell_type": "markdown",
      "source": [
        "#convert a list of multipule integer into a single integer"
      ],
      "metadata": {
        "id": "EAX-9EMlvYfu"
      }
    },
    {
      "cell_type": "code",
      "source": [
        "n=int(input())\n",
        "l=[]\n",
        "for i in range(n):\n",
        "  x=int(input())\n",
        "  l.append(x)\n",
        "print(l)\n",
        "for i in l:\n",
        "  print(i,end=\"\")"
      ],
      "metadata": {
        "id": "FDlGvYHyvl9t",
        "colab": {
          "base_uri": "https://localhost:8080/"
        },
        "outputId": "70361a7c-2041-4cb0-f51a-aa4593d08d1d"
      },
      "execution_count": null,
      "outputs": [
        {
          "output_type": "stream",
          "name": "stdout",
          "text": [
            "1\n",
            "99\n",
            "[99]\n",
            "99"
          ]
        }
      ]
    },
    {
      "cell_type": "markdown",
      "source": [
        "#warp to find power of number with recursion and without recursion (input n=2,p=3)\n"
      ],
      "metadata": {
        "id": "xjtCrujDJz15"
      }
    },
    {
      "cell_type": "code",
      "source": [
        ""
      ],
      "metadata": {
        "id": "Exw9COoJvP1z"
      },
      "execution_count": null,
      "outputs": []
    },
    {
      "cell_type": "markdown",
      "source": [
        "#programe to print the greatest of three numbers"
      ],
      "metadata": {
        "id": "N513LTH3ECwb"
      }
    },
    {
      "cell_type": "code",
      "source": [
        "a=int(input())\n",
        "b=int(input())\n",
        "c=int(input())\n",
        "if (a >= b) and (a >= c):\n",
        "   largest = a\n",
        "elif (b >= a) and (b >= c):\n",
        "   largest = b\n",
        "else:\n",
        "   largest = c\n",
        "\n",
        "print(\"The largest number is\", largest)"
      ],
      "metadata": {
        "colab": {
          "base_uri": "https://localhost:8080/",
          "height": 0
        },
        "id": "EhpAMj7REGQj",
        "outputId": "3a3010ba-e9f3-4fb2-c5b9-d0c5355fe041"
      },
      "execution_count": 34,
      "outputs": [
        {
          "output_type": "stream",
          "name": "stdout",
          "text": [
            "23\n",
            "45\n",
            "67\n",
            "The largest number is 67\n"
          ]
        }
      ]
    },
    {
      "cell_type": "markdown",
      "source": [
        "#Given two integers A and B.if A is less than B,print all numbers from A and B in the assending order else print in decending order\n",
        "#input:12,15\n",
        "output:12,13,14,15"
      ],
      "metadata": {
        "id": "z2r9koIsRBYY"
      }
    },
    {
      "cell_type": "code",
      "source": [
        "a=int(input(\"Enter value of A: \"))\n",
        "b=int(input(\"Enter value of B: \"))\n",
        "if a<b:\n",
        "  for i in range (a,b+1):\n",
        "    print(i)\n",
        "else:\n",
        "  for i in range (a,b-1,-1):\n",
        "    print(i)    \n",
        "\n"
      ],
      "metadata": {
        "id": "BzuVFAGGRDR9",
        "colab": {
          "base_uri": "https://localhost:8080/"
        },
        "outputId": "a946318b-3ff6-433a-b096-81850dccd374"
      },
      "execution_count": null,
      "outputs": [
        {
          "output_type": "stream",
          "name": "stdout",
          "text": [
            "Enter value of A: 15\n",
            "Enter value of B: 12\n",
            "15\n",
            "14\n",
            "13\n",
            "12\n"
          ]
        }
      ]
    },
    {
      "cell_type": "markdown",
      "source": [
        "#Give a list of city names,print the city names whose length is greater than given length.\n",
        "print city names(\"delhi\",\"goa\",\"agra\",\"mumbai\")\n"
      ],
      "metadata": {
        "id": "KMJ5aBdhUBUa"
      }
    },
    {
      "cell_type": "code",
      "source": [
        "a=[\"delhi\",\"goa\",\"agra\",\"mumbai\",\"patna\"]\n",
        "n=int(input(\"enter a number : \"))\n",
        "b=[]\n",
        "for i in a:\n",
        "  if len(i)>=n:\n",
        "    b.append(i)\n",
        "print(b)"
      ],
      "metadata": {
        "colab": {
          "base_uri": "https://localhost:8080/"
        },
        "id": "bRp94zqtUCjO",
        "outputId": "89af653c-193b-4daa-8ccb-afe75462a31b"
      },
      "execution_count": null,
      "outputs": [
        {
          "output_type": "stream",
          "name": "stdout",
          "text": [
            "enter a number : 5\n",
            "['delhi', 'mumbai', 'patna']\n"
          ]
        }
      ]
    },
    {
      "cell_type": "markdown",
      "source": [
        "#print number of ovels and consonents in a given string"
      ],
      "metadata": {
        "id": "WQt8FcKNWz4R"
      }
    },
    {
      "cell_type": "code",
      "source": [
        "a=input()\n",
        "v=0\n",
        "c=0\n",
        "for i in range (len(a)):\n",
        "  if a[i]=='a'or a[i]=='e' or a[i]=='i' or a[i]=='o' or a[i]=='u':\n",
        "    v = v+1\n",
        "  else:\n",
        "    c = c+1\n",
        "print(\"vowels=\",v)\n",
        "print(\"consonents=\",c)\n"
      ],
      "metadata": {
        "colab": {
          "base_uri": "https://localhost:8080/"
        },
        "id": "QvF9YfO0W01g",
        "outputId": "8cd24e93-4d78-41fe-b105-ddeb7c84bb97"
      },
      "execution_count": null,
      "outputs": [
        {
          "output_type": "stream",
          "name": "stdout",
          "text": [
            "gitam university\n",
            "vowels= 6\n",
            "consonents= 10\n"
          ]
        }
      ]
    },
    {
      "cell_type": "markdown",
      "source": [
        "#find the gcd of 2 numbers\n",
        "input= 5,3\n",
        "output=1 "
      ],
      "metadata": {
        "id": "_pE604AdaB4q"
      }
    },
    {
      "cell_type": "code",
      "source": [
        "import math           #gcd=LCM\n",
        "def GCD(x,y):\n",
        "    r=x%y              #remainder\n",
        "    if(r==0):\n",
        "        return y\n",
        "    else:\n",
        "        return GCD(y,r)       #GCD(y,r) we have taken y is diviser and r is remainder.because they two are math functions.\n",
        "n= int(input(\"Enter the first number :\"))\n",
        "m= int(input(\"Enter the second number :\"))\n",
        "print(\"The GCD of two numbers is:\", GCD(n,m))"
      ],
      "metadata": {
        "colab": {
          "base_uri": "https://localhost:8080/"
        },
        "id": "q38UAISGaDLi",
        "outputId": "5fdf75f5-32fd-4545-e2cb-1eba4b90969d"
      },
      "execution_count": null,
      "outputs": [
        {
          "output_type": "stream",
          "name": "stdout",
          "text": [
            "Enter the first number :5\n",
            "Enter the second number :3\n",
            "The GCD of two numbers is: 1\n"
          ]
        }
      ]
    },
    {
      "cell_type": "markdown",
      "source": [
        "#check given number is  perfect or not."
      ],
      "metadata": {
        "id": "Tpr2mjmCcSyr"
      }
    },
    {
      "cell_type": "code",
      "source": [
        "n=int(input(\"enter a number:\"))\n",
        "i=1\n",
        "sum=0\n",
        "while i<n:\n",
        "  if n%i ==0:\n",
        "    sum=sum+i\n",
        "  i=i+1\n",
        "if sum==n:\n",
        "  print(\"perfect number\")\n",
        "else:\n",
        "  print (\"not a perfect number\")"
      ],
      "metadata": {
        "id": "Y2L5zUfycYrk",
        "colab": {
          "base_uri": "https://localhost:8080/"
        },
        "outputId": "cf12905d-af30-4001-e2b4-dbd7d19cf02a"
      },
      "execution_count": null,
      "outputs": [
        {
          "output_type": "stream",
          "name": "stdout",
          "text": [
            "enter a number:6\n",
            "perfect number\n"
          ]
        }
      ]
    },
    {
      "cell_type": "markdown",
      "source": [
        "#Take five subject marks from the user and display the grade \n",
        "if avg is 90-100 o grade 80 to 89 a+ 70 to 79 is A 60 to 69 B+ <40 fail."
      ],
      "metadata": {
        "id": "BemNkFaW0sNQ"
      }
    },
    {
      "cell_type": "code",
      "source": [
        "a=int(input(\"Enter the marks of subject 1: \"))\n",
        "b=int(input(\"Enter the marks of subject 2: \"))\n",
        "c=int(input(\"Enter the marks of subject 3: \"))\n",
        "d=int(input(\"Enter the marks of subject 4: \"))\n",
        "e=int(input(\"Enter the marks of subject 5: \"))\n",
        "avg = (a+b+c+d+e)//5\n",
        "print(avg)\n",
        "\n",
        "if 90<avg<100:\n",
        "  print(\"o\")\n",
        "elif 80<avg<89:\n",
        "  print(\"A+\")  \n",
        "elif 70<avg<79:\n",
        "  print(\"A\")\n",
        "elif 60<avg<69:\n",
        "  print(\"B+\")\n",
        "elif 50<avg<59:\n",
        "  print(\"b\")\n",
        "else:\n",
        "  print(\"Fail\")"
      ],
      "metadata": {
        "colab": {
          "base_uri": "https://localhost:8080/"
        },
        "id": "-GelEz6O03Ce",
        "outputId": "8d7f1ec0-850d-4d70-c53a-ae9e761f0598"
      },
      "execution_count": null,
      "outputs": [
        {
          "output_type": "stream",
          "name": "stdout",
          "text": [
            "Enter the marks of subject 1: 55\n",
            "Enter the marks of subject 2: 55\n",
            "Enter the marks of subject 3: 56\n",
            "Enter the marks of subject 4: 54\n",
            "Enter the marks of subject 5: 58\n",
            "55\n",
            "b\n"
          ]
        }
      ]
    },
    {
      "cell_type": "markdown",
      "source": [
        "#print sum of even digits in a given number\n",
        "input=1243\n",
        "output=6"
      ],
      "metadata": {
        "id": "mkR7kwFVbA--"
      }
    },
    {
      "cell_type": "code",
      "source": [
        "a=str(input())\n",
        "sum=0\n",
        "for i in a:\n",
        "   if int(i)%2==0:\n",
        "    sum=sum+int(i)\n",
        "print(sum)"
      ],
      "metadata": {
        "id": "ir_lbGLibCLd",
        "colab": {
          "base_uri": "https://localhost:8080/",
          "height": 0
        },
        "outputId": "0559cefa-a3b6-410c-9fbf-78c8c5d5c218"
      },
      "execution_count": 33,
      "outputs": [
        {
          "output_type": "stream",
          "name": "stdout",
          "text": [
            "1243\n",
            "6\n"
          ]
        }
      ]
    },
    {
      "cell_type": "markdown",
      "source": [
        "#warp to sort tupels by total digits \n",
        "input:list=[(3,4,6,723),(1,2),(134,234,34)\n",
        "output:[(1,2)(3,4,6,723)(34,134,234)]"
      ],
      "metadata": {
        "id": "76rnv9kozAuS"
      }
    },
    {
      "cell_type": "code",
      "source": [
        "list=[(3,4,6,723),(1,2),(134,234,34)]\n",
        "list.sort()\n",
        "print(list)"
      ],
      "metadata": {
        "colab": {
          "base_uri": "https://localhost:8080/",
          "height": 0
        },
        "id": "-FQRQbqozCyl",
        "outputId": "0c4d3ad1-b9c9-4e29-bd6e-1ed814d8fb49"
      },
      "execution_count": 29,
      "outputs": [
        {
          "output_type": "stream",
          "name": "stdout",
          "text": [
            "[(1, 2), (3, 4, 6, 723), (134, 234, 34)]\n"
          ]
        }
      ]
    },
    {
      "cell_type": "markdown",
      "source": [
        "#To find power of number using recursions"
      ],
      "metadata": {
        "id": "p3nYm9q50dTm"
      }
    },
    {
      "cell_type": "code",
      "source": [
        "def power(n,p):\n",
        "if p==0 :\n",
        "return 1\n",
        "else :\n",
        "return (n*power(n,p-1))\n",
        "n=int(input(\"Enter a number \"))\n",
        "p=int(input(\"Enter power \"))\n",
        "r= power(n,p)\n",
        "print(f\"n^p = {r}\")"
      ],
      "metadata": {
        "id": "WtfTfDSI0T1R"
      },
      "execution_count": null,
      "outputs": []
    },
    {
      "cell_type": "markdown",
      "source": [
        "#wrap that prints 1 if all the three given numbers are in assending order or print 0.\n",
        "input=1,2,3"
      ],
      "metadata": {
        "id": "MDTot1-71uNb"
      }
    },
    {
      "cell_type": "code",
      "source": [
        "a=list(map(int, input(\"Enter number \").rstrip().split()))\n",
        "b=[]\n",
        "b.extend(a)\n",
        "a.sort()\n",
        "if a==b :\n",
        "  print(\"1\")\n",
        "else :\n",
        "  print(\"0\")"
      ],
      "metadata": {
        "colab": {
          "base_uri": "https://localhost:8080/",
          "height": 0
        },
        "id": "PLOjjvaO2jHy",
        "outputId": "d17173e6-0666-4d40-d057-53670ed02c76"
      },
      "execution_count": 11,
      "outputs": [
        {
          "output_type": "stream",
          "name": "stdout",
          "text": [
            "Enter number 1 2 3\n",
            "1\n"
          ]
        }
      ]
    },
    {
      "cell_type": "markdown",
      "source": [
        "#Given a string count front back matches"
      ],
      "metadata": {
        "id": "7y4rawVe68VI"
      }
    },
    {
      "cell_type": "code",
      "source": [
        "a=input(\"Enter a word \")\n",
        "s=0\n",
        "l=len(a)//2\n",
        "for i in range(l):\n",
        " x=a[i]\n",
        " y=a[-(i+1)]\n",
        "if x==y :\n",
        " s+=1\n",
        "print(s)"
      ],
      "metadata": {
        "colab": {
          "base_uri": "https://localhost:8080/",
          "height": 0
        },
        "id": "Coif0HcP6pg1",
        "outputId": "fd823448-54ca-404a-8d4f-af7375d5389a"
      },
      "execution_count": 15,
      "outputs": [
        {
          "output_type": "stream",
          "name": "stdout",
          "text": [
            "Enter a word abcefcba\n",
            "0\n"
          ]
        }
      ]
    },
    {
      "cell_type": "markdown",
      "source": [
        "#given an integer n,return a list containing  (inp:4 out: 1 2 2 3 3 3 4 4 4 4) and finaly n repeated n times(n>0)"
      ],
      "metadata": {
        "id": "Ud5Z9VuL734D"
      }
    },
    {
      "cell_type": "code",
      "source": [
        "n=int(input(\"enter your number :\"))\n",
        "a=[]\n",
        "for i in range (n+1):\n",
        "  for j in range (i):\n",
        "    a.append(i)\n",
        "print(a)"
      ],
      "metadata": {
        "colab": {
          "base_uri": "https://localhost:8080/",
          "height": 0
        },
        "id": "LJWqdmHA7o95",
        "outputId": "bcab1be0-4e65-4151-a962-ea0d3ba78406"
      },
      "execution_count": 25,
      "outputs": [
        {
          "output_type": "stream",
          "name": "stdout",
          "text": [
            "enter your number :4\n",
            "[1, 2, 2, 3, 3, 3, 4, 4, 4, 4]\n"
          ]
        }
      ]
    },
    {
      "cell_type": "markdown",
      "source": [
        "#given list of students and a letter print all students whose name starts with that letter"
      ],
      "metadata": {
        "id": "_4pvMAnB9E5n"
      }
    },
    {
      "cell_type": "code",
      "source": [
        "n=input(\"Enter letter to be verified \")\n",
        "n=n.lower()\n",
        "r=[]\n",
        "s=0\n",
        "for i in range(int(input(\"Enter no. of students \"))):\n",
        " a=input(f\"Enter name of student no. {i+1} \")\n",
        " a=a.lower()\n",
        " p=a[0]\n",
        " if n==p :\n",
        "  s+=1\n",
        "  r.append(a)\n",
        "print(f\"Total {s} students matched\\nThey are {r}\")\n"
      ],
      "metadata": {
        "colab": {
          "base_uri": "https://localhost:8080/",
          "height": 0
        },
        "id": "pH83Jmi59D6D",
        "outputId": "6c1cfaec-e3c9-4ce3-81cb-e5c0a9924760"
      },
      "execution_count": 27,
      "outputs": [
        {
          "output_type": "stream",
          "name": "stdout",
          "text": [
            "Enter letter to be verified s\n",
            "Enter no. of students 4\n",
            "Enter name of student no. 1 dhan\n",
            "Enter name of student no. 2 evd\n",
            "Enter name of student no. 3 sam\n",
            "Enter name of student no. 4 sasi\n",
            "Total 2 students matched\n",
            "They are ['sam', 'sasi']\n"
          ]
        }
      ]
    },
    {
      "cell_type": "markdown",
      "source": [
        "#There is a walking track of 3kms.roundtrip of walking track means 3+3=6kms.no of round tripes.<40000 meters(need to walk more )>40000 meters (good job) \n",
        "1 round trip = 6km\n"
      ],
      "metadata": {
        "id": "evSjeJJD_QDi"
      }
    },
    {
      "cell_type": "code",
      "source": [
        "a=int(input(\"Enter days \"))\n",
        "b=int(input(\"Enter round trips/day \"))\n",
        "c=a*b*6000\n",
        "if c>= 40000 :\n",
        " print(\"Good job\")\n",
        "else :\n",
        " print(\"Need to walk more\")"
      ],
      "metadata": {
        "colab": {
          "base_uri": "https://localhost:8080/",
          "height": 0
        },
        "id": "fn7SbT-j_Ru1",
        "outputId": "0a1c7c0e-4ba4-4770-9304-67a9067d9c86"
      },
      "execution_count": 28,
      "outputs": [
        {
          "output_type": "stream",
          "name": "stdout",
          "text": [
            "Enter days 3\n",
            "Enter round trips/day 34\n",
            "Good job\n"
          ]
        }
      ]
    }
  ]
}