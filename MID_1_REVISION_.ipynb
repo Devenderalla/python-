{
  "nbformat": 4,
  "nbformat_minor": 0,
  "metadata": {
    "colab": {
      "name": "MID 1 REVISION .ipynb",
      "provenance": [],
      "authorship_tag": "ABX9TyP2Lo3IE/XbBk1LaRFD/A/U",
      "include_colab_link": true
    },
    "kernelspec": {
      "name": "python3",
      "display_name": "Python 3"
    },
    "language_info": {
      "name": "python"
    }
  },
  "cells": [
    {
      "cell_type": "markdown",
      "metadata": {
        "id": "view-in-github",
        "colab_type": "text"
      },
      "source": [
        "<a href=\"https://colab.research.google.com/github/Devenderalla/python-/blob/main/MID_1_REVISION_.ipynb\" target=\"_parent\"><img src=\"https://colab.research.google.com/assets/colab-badge.svg\" alt=\"Open In Colab\"/></a>"
      ]
    },
    {
      "cell_type": "markdown",
      "source": [
        "##prime number in given range using functions"
      ],
      "metadata": {
        "id": "eOqB0yQHtOod"
      }
    },
    {
      "cell_type": "code",
      "execution_count": null,
      "metadata": {
        "id": "TGffdsidsq3_"
      },
      "outputs": [],
      "source": [
        "def prime(a,b):\n",
        "  for i in range(a,b+1):"
      ]
    },
    {
      "cell_type": "markdown",
      "source": [
        "#write a python programe to captalise first letter and last letter"
      ],
      "metadata": {
        "id": "o3ClT_5Ms6Rl"
      }
    },
    {
      "cell_type": "code",
      "source": [
        "a=str(input())\n",
        "n=a.split()\n",
        "for i in n:\n",
        "  b=i.capitalize()\n",
        "  c=i[-1].capitalize()\n",
        "  s=b[0:-1]+c\n",
        "  print(s,end=\" \")"
      ],
      "metadata": {
        "colab": {
          "base_uri": "https://localhost:8080/"
        },
        "id": "yZlKo8a2s3PO",
        "outputId": "51019bb9-2301-411a-e12c-542076c6dc16"
      },
      "execution_count": 8,
      "outputs": [
        {
          "output_type": "stream",
          "name": "stdout",
          "text": [
            "indian movies\n",
            "IndiaN MovieS "
          ]
        }
      ]
    },
    {
      "cell_type": "markdown",
      "source": [
        "#To read any month in integer and display days for the month."
      ],
      "metadata": {
        "id": "zDZyHV5UtR4l"
      }
    },
    {
      "cell_type": "code",
      "source": [
        "def month(x):\n",
        "  if x==1 or x==3 or x==5 or x==7 or x==8 or x==10 or x==12:\n",
        "    print(\"31 days\")\n",
        "  elif x==2:\n",
        "    print(\"28/29 days\")\n",
        "  elif x==4 or x==6 or x==9 or x==11:\n",
        "    print(\"30 days\")\n",
        "  else:\n",
        "    print(\"enter valid month number\")\n",
        "a=int(input(\"enter valid month number\"))\n",
        "month(a)"
      ],
      "metadata": {
        "colab": {
          "base_uri": "https://localhost:8080/"
        },
        "id": "-sg_gs0dtVm0",
        "outputId": "ab34baab-a14c-40bc-a14f-55e893703758"
      },
      "execution_count": 2,
      "outputs": [
        {
          "output_type": "stream",
          "name": "stdout",
          "text": [
            "enter valid month number5\n",
            "31 days\n"
          ]
        }
      ]
    },
    {
      "cell_type": "markdown",
      "source": [
        "#wrap to read a string from the user and display first letter of each word with captail letter"
      ],
      "metadata": {
        "id": "ZA2IexiCtaIV"
      }
    },
    {
      "cell_type": "code",
      "source": [
        "a=str(input())\n",
        "n=a.split()\n",
        "s=\"\"\n",
        "for i in n:\n",
        "  s=i.capitalize()\n",
        "  print(s,end=' ')"
      ],
      "metadata": {
        "colab": {
          "base_uri": "https://localhost:8080/"
        },
        "id": "zyvGDiSytsuV",
        "outputId": "32669fc4-a96d-453a-c1cf-0b18ca4c692d"
      },
      "execution_count": 7,
      "outputs": [
        {
          "output_type": "stream",
          "name": "stdout",
          "text": [
            "indian movies\n",
            "Indian Movies "
          ]
        }
      ]
    },
    {
      "cell_type": "code",
      "source": [
        "#To print even length words in a string\n",
        "def even(n):\n",
        "  if len(n)%2==0\n"
      ],
      "metadata": {
        "id": "rgPHFG0Gudp2"
      },
      "execution_count": null,
      "outputs": []
    },
    {
      "cell_type": "markdown",
      "source": [
        "#convert a list of multipule integer into a single integer"
      ],
      "metadata": {
        "id": "EAX-9EMlvYfu"
      }
    },
    {
      "cell_type": "code",
      "source": [
        "a=eval(input(\"enter list elements\"))"
      ],
      "metadata": {
        "id": "FDlGvYHyvl9t"
      },
      "execution_count": null,
      "outputs": []
    }
  ]
}