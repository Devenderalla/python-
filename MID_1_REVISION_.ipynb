{
  "nbformat": 4,
  "nbformat_minor": 0,
  "metadata": {
    "colab": {
      "name": "MID 1 REVISION .ipynb",
      "provenance": [],
      "authorship_tag": "ABX9TyNArhxVLqLZnWAOchyBmb3X",
      "include_colab_link": true
    },
    "kernelspec": {
      "name": "python3",
      "display_name": "Python 3"
    },
    "language_info": {
      "name": "python"
    }
  },
  "cells": [
    {
      "cell_type": "markdown",
      "metadata": {
        "id": "view-in-github",
        "colab_type": "text"
      },
      "source": [
        "<a href=\"https://colab.research.google.com/github/Devenderalla/python-/blob/main/MID_1_REVISION_.ipynb\" target=\"_parent\"><img src=\"https://colab.research.google.com/assets/colab-badge.svg\" alt=\"Open In Colab\"/></a>"
      ]
    },
    {
      "cell_type": "markdown",
      "source": [
        "##prime number in given range using functions"
      ],
      "metadata": {
        "id": "eOqB0yQHtOod"
      }
    },
    {
      "cell_type": "code",
      "execution_count": null,
      "metadata": {
        "id": "TGffdsidsq3_",
        "colab": {
          "base_uri": "https://localhost:8080/"
        },
        "outputId": "21ca39f5-cf42-4061-aeee-e3825ed73d1a"
      },
      "outputs": [
        {
          "output_type": "stream",
          "name": "stdout",
          "text": [
            "Enter upper limit: 5\n",
            "Enter lower limit: 10\n",
            "The Prime Numbers in the range are: \n",
            "The Prime Numbers in the range are: \n",
            "The Prime Numbers in the range are: \n",
            "The Prime Numbers in the range are: \n",
            "The Prime Numbers in the range are: \n",
            "The Prime Numbers in the range are: \n"
          ]
        }
      ],
      "source": [
        "def"
      ]
    },
    {
      "cell_type": "markdown",
      "source": [
        "#write a python programe to captalise first letter and last letter"
      ],
      "metadata": {
        "id": "o3ClT_5Ms6Rl"
      }
    },
    {
      "cell_type": "code",
      "source": [
        "a=str(input())\n",
        "n=a.split()\n",
        "for i in n:\n",
        "  b=i.capitalize()\n",
        "  c=i[-1].capitalize()\n",
        "  s=b[0:-1]+c\n",
        "  print(s,end=\" \")"
      ],
      "metadata": {
        "colab": {
          "base_uri": "https://localhost:8080/"
        },
        "id": "yZlKo8a2s3PO",
        "outputId": "51019bb9-2301-411a-e12c-542076c6dc16"
      },
      "execution_count": null,
      "outputs": [
        {
          "output_type": "stream",
          "name": "stdout",
          "text": [
            "indian movies\n",
            "IndiaN MovieS "
          ]
        }
      ]
    },
    {
      "cell_type": "markdown",
      "source": [
        "#To read any month in integer and display days for the month."
      ],
      "metadata": {
        "id": "zDZyHV5UtR4l"
      }
    },
    {
      "cell_type": "code",
      "source": [
        "def month(x):\n",
        "  if x==1 or x==3 or x==5 or x==7 or x==8 or x==10 or x==12:\n",
        "    print(\"31 days\")\n",
        "  elif x==2:\n",
        "    print(\"28/29 days\")\n",
        "  elif x==4 or x==6 or x==9 or x==11:\n",
        "    print(\"30 days\")\n",
        "  else:\n",
        "    print(\"enter valid month number\")\n",
        "a=int(input(\"enter valid month number\"))\n",
        "month(a)"
      ],
      "metadata": {
        "colab": {
          "base_uri": "https://localhost:8080/"
        },
        "id": "-sg_gs0dtVm0",
        "outputId": "ab34baab-a14c-40bc-a14f-55e893703758"
      },
      "execution_count": null,
      "outputs": [
        {
          "output_type": "stream",
          "name": "stdout",
          "text": [
            "enter valid month number5\n",
            "31 days\n"
          ]
        }
      ]
    },
    {
      "cell_type": "markdown",
      "source": [
        "#wrap to read a string from the user and display first letter of each word with captail letter"
      ],
      "metadata": {
        "id": "ZA2IexiCtaIV"
      }
    },
    {
      "cell_type": "code",
      "source": [
        "a=str(input())\n",
        "n=a.split()\n",
        "s=\"\"\n",
        "for i in n:\n",
        "  s=i.capitalize()\n",
        "  print(s,end=' ')"
      ],
      "metadata": {
        "colab": {
          "base_uri": "https://localhost:8080/"
        },
        "id": "zyvGDiSytsuV",
        "outputId": "32669fc4-a96d-453a-c1cf-0b18ca4c692d"
      },
      "execution_count": null,
      "outputs": [
        {
          "output_type": "stream",
          "name": "stdout",
          "text": [
            "indian movies\n",
            "Indian Movies "
          ]
        }
      ]
    },
    {
      "cell_type": "code",
      "source": [
        "#To print even length words in a string\n",
        "def even(n):\n",
        "  a=n.split()\n",
        "  for i in a:\n",
        "    if(len(i)%2==0):\n",
        "      return(i)\n",
        "    else:\n",
        "      pass\n",
        "n=str(input())\n",
        "print(even(n))\n",
        "\n"
      ],
      "metadata": {
        "id": "rgPHFG0Gudp2",
        "colab": {
          "base_uri": "https://localhost:8080/"
        },
        "outputId": "c8755e48-c28f-464b-cc17-5d4d09051bbb"
      },
      "execution_count": null,
      "outputs": [
        {
          "output_type": "stream",
          "name": "stdout",
          "text": [
            "ok\n",
            "ok\n"
          ]
        }
      ]
    },
    {
      "cell_type": "markdown",
      "source": [
        "#convert a list of multipule integer into a single integer"
      ],
      "metadata": {
        "id": "EAX-9EMlvYfu"
      }
    },
    {
      "cell_type": "code",
      "source": [
        "n=int(input())\n",
        "l=[]\n",
        "for i in range(n):\n",
        "  x=int(input())\n",
        "  l.append(x)\n",
        "print(l)\n",
        "for i in l:\n",
        "  print(i,end=\"\")"
      ],
      "metadata": {
        "id": "FDlGvYHyvl9t",
        "colab": {
          "base_uri": "https://localhost:8080/"
        },
        "outputId": "70361a7c-2041-4cb0-f51a-aa4593d08d1d"
      },
      "execution_count": null,
      "outputs": [
        {
          "output_type": "stream",
          "name": "stdout",
          "text": [
            "1\n",
            "99\n",
            "[99]\n",
            "99"
          ]
        }
      ]
    },
    {
      "cell_type": "markdown",
      "source": [
        "#warp to find power of number with recursion and without recursion n=2,p=3\n"
      ],
      "metadata": {
        "id": "xjtCrujDJz15"
      }
    },
    {
      "cell_type": "code",
      "source": [
        "#warp to sort tupels by total digits \n",
        "input:list=[(3,4,6,7,2,3),(1,2),(134,234,34)]\n",
        "#take five subject marks from the user and display the grade \n",
        "if avg is 90-100 o grade 80 to 89 a+ 70 to 79 is A 60 to 69 B+ <40 fail.\n",
        "#wrap that prints 1 if all the three given numbers are in assending order.\n",
        "input=1,2,3\n",
        "output=1\n",
        "#check given number is  perfect or not.\n",
        "#check given string is palindrome or not using string sclising\n",
        "input=malyalam\n",
        "#print sum of even digits in a given number\n",
        "input=1243\n",
        "output=6\n",
        "#write a programe to caliculate sum of squares of digits of a number given by user\n",
        "input=1,2,3\n",
        "output=14\n",
        "#given a string is s=\"abcdefcba\" how many times \n",
        "#print number of ovels and consonents in a given string\n",
        "input:gitam university\n",
        "#vowels:\n",
        "#given two integers A and B.if A is less than B,print all numbers from A and B in the assending order else print in decending order\n",
        "#input:12,15\n",
        "output:12,13,14,15\n",
        "#write a programe to count the number of string where he string length charecter are same from a given list of string.\n",
        "#There is a walking track of 3kms.roundtrip of walking track means 3+3=6kms. \n",
        "#Given a list of students name in \n",
        "\n"
      ],
      "metadata": {
        "id": "gEPcDcgdKJwE"
      },
      "execution_count": null,
      "outputs": []
    },
    {
      "cell_type": "markdown",
      "source": [
        "#Given two integers A and B.if A is less than B,print all numbers from A and B in the assending order else print in decending order\n",
        "#input:12,15\n",
        "output:12,13,14,15"
      ],
      "metadata": {
        "id": "z2r9koIsRBYY"
      }
    },
    {
      "cell_type": "code",
      "source": [
        "a=int(input())\n",
        "\n"
      ],
      "metadata": {
        "id": "BzuVFAGGRDR9"
      },
      "execution_count": null,
      "outputs": []
    },
    {
      "cell_type": "markdown",
      "source": [
        "#Give a list of city names,print the city names whose length is greater than given length.\n",
        "print city names(\"delhi\",\"goa\",\"agra\",\"mumbai\")\n"
      ],
      "metadata": {
        "id": "KMJ5aBdhUBUa"
      }
    },
    {
      "cell_type": "code",
      "source": [
        "a=[\"delhi\",\"goa\",\"agra\",\"mumbai\",\"patna\"]\n",
        "n=int(input(\"enter a number : \"))\n",
        "b=[]\n",
        "for i in a:\n",
        "  if len(i)>=n:\n",
        "    b.append(i)\n",
        "print(b)"
      ],
      "metadata": {
        "colab": {
          "base_uri": "https://localhost:8080/"
        },
        "id": "bRp94zqtUCjO",
        "outputId": "89af653c-193b-4daa-8ccb-afe75462a31b"
      },
      "execution_count": 14,
      "outputs": [
        {
          "output_type": "stream",
          "name": "stdout",
          "text": [
            "enter a number : 5\n",
            "['delhi', 'mumbai', 'patna']\n"
          ]
        }
      ]
    },
    {
      "cell_type": "markdown",
      "source": [
        "#print number of ovels and consonents in a given string"
      ],
      "metadata": {
        "id": "WQt8FcKNWz4R"
      }
    },
    {
      "cell_type": "code",
      "source": [
        "a=input()\n",
        "v=0\n",
        "c=0\n",
        "for i in range (len(a)):\n",
        "  if a[i]=='a'or a[i]=='e' or a[i]=='i' or a[i]=='o' or a[i]=='u':\n",
        "    v+=1\n",
        "  else:\n",
        "    c+=1\n",
        "print(\"vowels=\",v)\n",
        "print(\"consonents=\",c)\n"
      ],
      "metadata": {
        "colab": {
          "base_uri": "https://localhost:8080/"
        },
        "id": "QvF9YfO0W01g",
        "outputId": "153136cc-f2e3-449b-9633-096503f78998"
      },
      "execution_count": 7,
      "outputs": [
        {
          "output_type": "stream",
          "name": "stdout",
          "text": [
            "ant\n",
            "vowels= 1\n",
            "consonents= 2\n"
          ]
        }
      ]
    },
    {
      "cell_type": "markdown",
      "source": [
        "#find the gcd of 2 numbers\n",
        "input= 5,3\n",
        "output=1 "
      ],
      "metadata": {
        "id": "_pE604AdaB4q"
      }
    },
    {
      "cell_type": "code",
      "source": [
        "import math           #gcd=LCM\n",
        "def GCD(x,y):\n",
        "    r=x%y              #remainder\n",
        "    if(r==0):\n",
        "        return y\n",
        "    else:\n",
        "        return GCD(y,r)       #GCD(y,r) we have taken y is diviser and r is remainder.because they two are math functions.\n",
        "n= int(input(\"Enter the first number :\"))\n",
        "m= int(input(\"Enter the second number :\"))\n",
        "print(\"The GCD of two numbers is:\", GCD(n,m))"
      ],
      "metadata": {
        "colab": {
          "base_uri": "https://localhost:8080/"
        },
        "id": "q38UAISGaDLi",
        "outputId": "5fdf75f5-32fd-4545-e2cb-1eba4b90969d"
      },
      "execution_count": 15,
      "outputs": [
        {
          "output_type": "stream",
          "name": "stdout",
          "text": [
            "Enter the first number :5\n",
            "Enter the second number :3\n",
            "The GCD of two numbers is: 1\n"
          ]
        }
      ]
    },
    {
      "cell_type": "markdown",
      "source": [
        "#check given number is  perfect or not."
      ],
      "metadata": {
        "id": "Tpr2mjmCcSyr"
      }
    },
    {
      "cell_type": "code",
      "source": [
        ""
      ],
      "metadata": {
        "id": "Y2L5zUfycYrk"
      },
      "execution_count": null,
      "outputs": []
    }
  ]
}