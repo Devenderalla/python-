{
  "nbformat": 4,
  "nbformat_minor": 0,
  "metadata": {
    "colab": {
      "name": "MODULE 1",
      "provenance": [],
      "authorship_tag": "ABX9TyN6PbkIdtDnc5MrfocQDxmv",
      "include_colab_link": true
    },
    "kernelspec": {
      "name": "python3",
      "display_name": "Python 3"
    },
    "language_info": {
      "name": "python"
    }
  },
  "cells": [
    {
      "cell_type": "markdown",
      "metadata": {
        "id": "view-in-github",
        "colab_type": "text"
      },
      "source": [
        "<a href=\"https://colab.research.google.com/github/Devenderalla/python-/blob/main/MODULE_1.ipynb\" target=\"_parent\"><img src=\"https://colab.research.google.com/assets/colab-badge.svg\" alt=\"Open In Colab\"/></a>"
      ]
    },
    {
      "cell_type": "markdown",
      "source": [
        "#module 1"
      ],
      "metadata": {
        "id": "R8x7sDieyIp1"
      }
    },
    {
      "cell_type": "markdown",
      "source": [
        "#Accept input from user and store it in variable and print the value."
      ],
      "metadata": {
        "id": "YYrobkmhyien"
      }
    },
    {
      "cell_type": "code",
      "source": [
        "a=int(input(\"enter the num\"))\n",
        "print(a)"
      ],
      "metadata": {
        "colab": {
          "base_uri": "https://localhost:8080/"
        },
        "id": "k4nZuRGsyls8",
        "outputId": "ea1a6bd8-8daf-4cb0-cceb-c013916b3dcd"
      },
      "execution_count": 2,
      "outputs": [
        {
          "output_type": "stream",
          "name": "stdout",
          "text": [
            "enter the num78\n",
            "78\n"
          ]
        }
      ]
    },
    {
      "cell_type": "markdown",
      "source": [
        "#Use of print statements and use of (.format )for printing different data types."
      ],
      "metadata": {
        "id": "mJGsgugTzzUU"
      }
    },
    {
      "cell_type": "code",
      "source": [
        "a='sad'\n",
        "b=\"my name is dev and i am {}\"\n",
        "print(b.format(a))"
      ],
      "metadata": {
        "colab": {
          "base_uri": "https://localhost:8080/"
        },
        "id": "pkV4qSYhz6ko",
        "outputId": "1c91c278-8149-4444-f447-17b421410c9b"
      },
      "execution_count": 11,
      "outputs": [
        {
          "output_type": "stream",
          "name": "stdout",
          "text": [
            "my name is dev and i am sad\n"
          ]
        }
      ]
    },
    {
      "cell_type": "markdown",
      "source": [
        "#Take 2 numbers as user input and add, multiply, divide, subtract, remainder and print\n",
        "the output (Same operations on floating point input as well)"
      ],
      "metadata": {
        "id": "RRsSWC__2G7H"
      }
    },
    {
      "cell_type": "code",
      "source": [
        "a=int(input(\"enter the num 1 :\"))\n",
        "b=int(input(\"enter the num 2 :\"))\n",
        "print(a+b)\n",
        "print(a-b)\n",
        "print(a*b)\n",
        "print(a/b)\n",
        "print(a%b)\n"
      ],
      "metadata": {
        "colab": {
          "base_uri": "https://localhost:8080/"
        },
        "id": "Ti5MSAQ92Qh-",
        "outputId": "c71bcddb-9479-4b4a-b6e5-542ffcbd65f4"
      },
      "execution_count": 14,
      "outputs": [
        {
          "output_type": "stream",
          "name": "stdout",
          "text": [
            "enter the num 1 :20\n",
            "enter the num 2 :10\n",
            "30\n",
            "10\n",
            "200\n",
            "2.0\n",
            "0\n"
          ]
        }
      ]
    }
  ]
}