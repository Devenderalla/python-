{
  "nbformat": 4,
  "nbformat_minor": 0,
  "metadata": {
    "colab": {
      "name": "MODULE 1",
      "provenance": [],
      "authorship_tag": "ABX9TyONDQgspmxs/lpWyjcEph6H",
      "include_colab_link": true
    },
    "kernelspec": {
      "name": "python3",
      "display_name": "Python 3"
    },
    "language_info": {
      "name": "python"
    }
  },
  "cells": [
    {
      "cell_type": "markdown",
      "metadata": {
        "id": "view-in-github",
        "colab_type": "text"
      },
      "source": [
        "<a href=\"https://colab.research.google.com/github/Devenderalla/python-/blob/main/MODULE_1.ipynb\" target=\"_parent\"><img src=\"https://colab.research.google.com/assets/colab-badge.svg\" alt=\"Open In Colab\"/></a>"
      ]
    },
    {
      "cell_type": "markdown",
      "source": [
        "#module 1"
      ],
      "metadata": {
        "id": "R8x7sDieyIp1"
      }
    },
    {
      "cell_type": "markdown",
      "source": [
        "#Accept input from user and store it in variable and print the value."
      ],
      "metadata": {
        "id": "YYrobkmhyien"
      }
    },
    {
      "cell_type": "code",
      "source": [
        "a=int(input(\"enter the num\"))\n",
        "print(a)"
      ],
      "metadata": {
        "colab": {
          "base_uri": "https://localhost:8080/"
        },
        "id": "k4nZuRGsyls8",
        "outputId": "ea1a6bd8-8daf-4cb0-cceb-c013916b3dcd"
      },
      "execution_count": null,
      "outputs": [
        {
          "output_type": "stream",
          "name": "stdout",
          "text": [
            "enter the num78\n",
            "78\n"
          ]
        }
      ]
    },
    {
      "cell_type": "markdown",
      "source": [
        "#Use of print statements and use of (.format )for printing different data types."
      ],
      "metadata": {
        "id": "mJGsgugTzzUU"
      }
    },
    {
      "cell_type": "code",
      "source": [
        "a='sad'\n",
        "b=\"my name is dev and i am {}\"\n",
        "print(b.format(a))"
      ],
      "metadata": {
        "colab": {
          "base_uri": "https://localhost:8080/"
        },
        "id": "pkV4qSYhz6ko",
        "outputId": "1c91c278-8149-4444-f447-17b421410c9b"
      },
      "execution_count": null,
      "outputs": [
        {
          "output_type": "stream",
          "name": "stdout",
          "text": [
            "my name is dev and i am sad\n"
          ]
        }
      ]
    },
    {
      "cell_type": "markdown",
      "source": [
        "#Take 2 numbers as user input and add, multiply, divide, subtract, remainder and print\n",
        "the output (Same operations on floating point input as well)"
      ],
      "metadata": {
        "id": "RRsSWC__2G7H"
      }
    },
    {
      "cell_type": "code",
      "source": [
        "a=int(input(\"enter the num 1 :\"))\n",
        "b=int(input(\"enter the num 2 :\"))\n",
        "print(a+b)\n",
        "print(a-b)\n",
        "print(a*b)\n",
        "print(a/b)\n",
        "print(a%b)\n"
      ],
      "metadata": {
        "colab": {
          "base_uri": "https://localhost:8080/"
        },
        "id": "Ti5MSAQ92Qh-",
        "outputId": "c71bcddb-9479-4b4a-b6e5-542ffcbd65f4"
      },
      "execution_count": null,
      "outputs": [
        {
          "output_type": "stream",
          "name": "stdout",
          "text": [
            "enter the num 1 :20\n",
            "enter the num 2 :10\n",
            "30\n",
            "10\n",
            "200\n",
            "2.0\n",
            "0\n"
          ]
        }
      ]
    },
    {
      "cell_type": "markdown",
      "source": [
        "#Conversion of one unit to another (such as hours to minutes, miles to km and etc)"
      ],
      "metadata": {
        "id": "AyHAfLWFYi2r"
      }
    },
    {
      "cell_type": "code",
      "source": [
        "a=int(input(\"Enter the value in hrs: \"))\n",
        "b = a*60\n",
        "print(\"The value in minutes is\",b)\n",
        "\n",
        "c=int(input(\"Enter value in miles: \"))\n",
        "d= c*0.621\n",
        "print(\"The value in kms is\", d)"
      ],
      "metadata": {
        "colab": {
          "base_uri": "https://localhost:8080/"
        },
        "id": "8AmdlWWEZQu0",
        "outputId": "0de8a792-53cf-4437-c919-074c9214a1d5"
      },
      "execution_count": 2,
      "outputs": [
        {
          "output_type": "stream",
          "name": "stdout",
          "text": [
            "Enter the value in hrs: 4\n",
            "The value in minutes is 240\n",
            "Enter value in miles: 2\n",
            "The value in kms is 1.242\n"
          ]
        }
      ]
    },
    {
      "cell_type": "markdown",
      "source": [
        "#Usage of mathematical functions in python like math.ceil, floor, fabs, fmod, trunc,\n",
        "pow, sqrt etc."
      ],
      "metadata": {
        "id": "GkcNI136dG9o"
      }
    },
    {
      "cell_type": "code",
      "source": [
        "import math\n",
        "print(math.ceil(7.1))\n",
        "print(math.floor(7.9))\n",
        "print(math.fabs(7.5))\n",
        "print(math.fmod(7,3))\n",
        "print(math.trunc(68.78))\n",
        "print(math.trunc(-2.3))\n"
      ],
      "metadata": {
        "colab": {
          "base_uri": "https://localhost:8080/"
        },
        "id": "YR6TiITNdkoP",
        "outputId": "c8aa6fba-21e9-4e7d-8ca7-daee1468e4f2"
      },
      "execution_count": 18,
      "outputs": [
        {
          "output_type": "stream",
          "name": "stdout",
          "text": [
            "8\n",
            "7\n",
            "7.5\n",
            "1.0\n",
            "68\n",
            "-2\n"
          ]
        }
      ]
    },
    {
      "cell_type": "markdown",
      "source": [
        "#Building a mathematical calculator that can perform operations according to user input.\n",
        "Use decision making statement.\n"
      ],
      "metadata": {
        "id": "-nc67Trsnoht"
      }
    },
    {
      "cell_type": "code",
      "source": [
        "n = input(\"Enter an operator: \")\n",
        "a = int(input(\"Enter first number: \"))\n",
        "b = int(input(\"Enter second number: \"))\n",
        "if n=='+':\n",
        "  print(a+b)\n",
        "elif n=='-':\n",
        "  print(a-b)\n",
        "elif n=='*':\n",
        "  print(a*b)\n",
        "elif n=='/':\n",
        "  print(a/b)\n",
        "elif n=='%':\n",
        "  print(a%b)\n"
      ],
      "metadata": {
        "colab": {
          "base_uri": "https://localhost:8080/"
        },
        "id": "TvgeYnqpn3O6",
        "outputId": "b6819f3f-7ba9-4ec7-e39c-1b1f21cbc90b"
      },
      "execution_count": 20,
      "outputs": [
        {
          "output_type": "stream",
          "name": "stdout",
          "text": [
            "Enter an operator: +\n",
            "Enter first number: 4\n",
            "Enter second number: 3\n",
            "7\n"
          ]
        }
      ]
    }
  ]
}