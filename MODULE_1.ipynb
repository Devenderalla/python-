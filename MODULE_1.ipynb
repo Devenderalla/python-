{
  "nbformat": 4,
  "nbformat_minor": 0,
  "metadata": {
    "colab": {
      "name": "MODULE 1",
      "provenance": [],
      "authorship_tag": "ABX9TyOrYIrzzxoIxqJH7TxigutB",
      "include_colab_link": true
    },
    "kernelspec": {
      "name": "python3",
      "display_name": "Python 3"
    },
    "language_info": {
      "name": "python"
    }
  },
  "cells": [
    {
      "cell_type": "markdown",
      "metadata": {
        "id": "view-in-github",
        "colab_type": "text"
      },
      "source": [
        "<a href=\"https://colab.research.google.com/github/Devenderalla/python-/blob/main/MODULE_1.ipynb\" target=\"_parent\"><img src=\"https://colab.research.google.com/assets/colab-badge.svg\" alt=\"Open In Colab\"/></a>"
      ]
    },
    {
      "cell_type": "markdown",
      "source": [
        "#module 1"
      ],
      "metadata": {
        "id": "R8x7sDieyIp1"
      }
    },
    {
      "cell_type": "markdown",
      "source": [
        "#Accept input from user and store it in variable and print the value."
      ],
      "metadata": {
        "id": "YYrobkmhyien"
      }
    },
    {
      "cell_type": "code",
      "source": [
        "a=int(input(\"enter the num\"))\n",
        "print(a)"
      ],
      "metadata": {
        "colab": {
          "base_uri": "https://localhost:8080/"
        },
        "id": "k4nZuRGsyls8",
        "outputId": "ea1a6bd8-8daf-4cb0-cceb-c013916b3dcd"
      },
      "execution_count": null,
      "outputs": [
        {
          "output_type": "stream",
          "name": "stdout",
          "text": [
            "enter the num78\n",
            "78\n"
          ]
        }
      ]
    },
    {
      "cell_type": "markdown",
      "source": [
        "#Use of print statements and use of (.format )for printing different data types."
      ],
      "metadata": {
        "id": "mJGsgugTzzUU"
      }
    },
    {
      "cell_type": "code",
      "source": [
        "a='sad'\n",
        "b=\"my name is dev and i am {}\"\n",
        "print(b.format(a))"
      ],
      "metadata": {
        "colab": {
          "base_uri": "https://localhost:8080/"
        },
        "id": "pkV4qSYhz6ko",
        "outputId": "1c91c278-8149-4444-f447-17b421410c9b"
      },
      "execution_count": null,
      "outputs": [
        {
          "output_type": "stream",
          "name": "stdout",
          "text": [
            "my name is dev and i am sad\n"
          ]
        }
      ]
    },
    {
      "cell_type": "markdown",
      "source": [
        "#Take 2 numbers as user input and add, multiply, divide, subtract, remainder and print\n",
        "the output (Same operations on floating point input as well)"
      ],
      "metadata": {
        "id": "RRsSWC__2G7H"
      }
    },
    {
      "cell_type": "code",
      "source": [
        "a=int(input(\"enter the num 1 :\"))\n",
        "b=int(input(\"enter the num 2 :\"))\n",
        "print(a+b)\n",
        "print(a-b)\n",
        "print(a*b)\n",
        "print(a/b)\n",
        "print(a%b)\n"
      ],
      "metadata": {
        "colab": {
          "base_uri": "https://localhost:8080/"
        },
        "id": "Ti5MSAQ92Qh-",
        "outputId": "c71bcddb-9479-4b4a-b6e5-542ffcbd65f4"
      },
      "execution_count": null,
      "outputs": [
        {
          "output_type": "stream",
          "name": "stdout",
          "text": [
            "enter the num 1 :20\n",
            "enter the num 2 :10\n",
            "30\n",
            "10\n",
            "200\n",
            "2.0\n",
            "0\n"
          ]
        }
      ]
    },
    {
      "cell_type": "markdown",
      "source": [
        "#Conversion of one unit to another (such as hours to minutes, miles to km and etc)"
      ],
      "metadata": {
        "id": "AyHAfLWFYi2r"
      }
    },
    {
      "cell_type": "code",
      "source": [
        "a=int(input(\"Enter the value in hrs: \"))\n",
        "b = a*60\n",
        "print(\"The value in minutes is\",b)\n",
        "\n",
        "c=int(input(\"Enter value in miles: \"))\n",
        "d= c*0.621\n",
        "print(\"The value in kms is\", d)"
      ],
      "metadata": {
        "colab": {
          "base_uri": "https://localhost:8080/"
        },
        "id": "8AmdlWWEZQu0",
        "outputId": "0de8a792-53cf-4437-c919-074c9214a1d5"
      },
      "execution_count": null,
      "outputs": [
        {
          "output_type": "stream",
          "name": "stdout",
          "text": [
            "Enter the value in hrs: 4\n",
            "The value in minutes is 240\n",
            "Enter value in miles: 2\n",
            "The value in kms is 1.242\n"
          ]
        }
      ]
    },
    {
      "cell_type": "markdown",
      "source": [
        "#Usage of mathematical functions in python like math.ceil, floor, fabs, fmod, trunc,\n",
        "pow, sqrt etc."
      ],
      "metadata": {
        "id": "GkcNI136dG9o"
      }
    },
    {
      "cell_type": "code",
      "source": [
        "import math\n",
        "print(math.ceil(7.1))\n",
        "print(math.floor(7.9))\n",
        "print(math.fabs(7.5))\n",
        "print(math.fmod(7,3))\n",
        "print(math.trunc(68.78))\n",
        "print(math.trunc(-2.3))\n"
      ],
      "metadata": {
        "colab": {
          "base_uri": "https://localhost:8080/"
        },
        "id": "YR6TiITNdkoP",
        "outputId": "c8aa6fba-21e9-4e7d-8ca7-daee1468e4f2"
      },
      "execution_count": null,
      "outputs": [
        {
          "output_type": "stream",
          "name": "stdout",
          "text": [
            "8\n",
            "7\n",
            "7.5\n",
            "1.0\n",
            "68\n",
            "-2\n"
          ]
        }
      ]
    },
    {
      "cell_type": "markdown",
      "source": [
        "#Building a mathematical calculator that can perform operations according to user input.\n",
        "Use decision making statement.\n"
      ],
      "metadata": {
        "id": "-nc67Trsnoht"
      }
    },
    {
      "cell_type": "code",
      "source": [
        "n = input(\"Enter an operator: \")\n",
        "a = int(input(\"Enter first number: \"))\n",
        "b = int(input(\"Enter second number: \"))\n",
        "if n=='+':\n",
        "  print(a+b)\n",
        "elif n=='-':\n",
        "  print(a-b)\n",
        "elif n=='*':\n",
        "  print(a*b)\n",
        "elif n=='/':\n",
        "  print(a/b)\n",
        "elif n=='%':\n",
        "  print(a%b)\n"
      ],
      "metadata": {
        "colab": {
          "base_uri": "https://localhost:8080/"
        },
        "id": "TvgeYnqpn3O6",
        "outputId": "b6819f3f-7ba9-4ec7-e39c-1b1f21cbc90b"
      },
      "execution_count": null,
      "outputs": [
        {
          "output_type": "stream",
          "name": "stdout",
          "text": [
            "Enter an operator: +\n",
            "Enter first number: 4\n",
            "Enter second number: 3\n",
            "7\n"
          ]
        }
      ]
    },
    {
      "cell_type": "markdown",
      "source": [
        "#Accepting 5 different subject marks from user and displaying the grade of the student."
      ],
      "metadata": {
        "id": "LA9EW9Z29ils"
      }
    },
    {
      "cell_type": "code",
      "source": [
        "a=int(input(\"Enter the marks of subject 1: \"))\n",
        "b=int(input(\"Enter the marks of subject 2: \"))\n",
        "c=int(input(\"Enter the marks of subject 3: \"))\n",
        "d=int(input(\"Enter the marks of subject 4: \"))\n",
        "e=int(input(\"Enter the marks of subject 5: \"))\n",
        "avg = a+b+c+d+e//5\n",
        "\n",
        "if 90<avg<100:\n",
        "  print(\"A\")\n",
        "elif 80<avg<89:\n",
        "  print(\"B\")  \n",
        "elif 70<avg<79:\n",
        "  print(\"C\")\n",
        "else:\n",
        "  print(\"Fail\")  "
      ],
      "metadata": {
        "id": "ICT7P6dqOs_N",
        "colab": {
          "base_uri": "https://localhost:8080/"
        },
        "outputId": "979f6e5c-d741-4802-b362-b363a90b7b41"
      },
      "execution_count": null,
      "outputs": [
        {
          "output_type": "stream",
          "name": "stdout",
          "text": [
            "Enter the marks of subject 1: 56\n",
            "Enter the marks of subject 2: 89\n",
            "Enter the marks of subject 3: 45\n",
            "Enter the marks of subject 4: 67\n",
            "Enter the marks of subject 5: 78\n",
            "Fail\n"
          ]
        }
      ]
    },
    {
      "cell_type": "markdown",
      "source": [
        "#Printing all even numbers, odd numbers, count of even numbers, count of odd numbers \n",
        "within a given range."
      ],
      "metadata": {
        "id": "EsKhfgHhFPlt"
      }
    },
    {
      "cell_type": "code",
      "source": [
        "e=0\n",
        "o=0\n",
        "for i in range(1,100):\n",
        "  if i%2==0:\n",
        "    print(i,\"is even\")\n",
        "    e=e+1\n",
        "  else:\n",
        "    print(i,\"is odd\")\n",
        "    o=o+1  \n",
        "\n",
        "print(\"Count of even numbers is\",e)    \n",
        "print(\"Count of odd numbers is\",o)   \n"
      ],
      "metadata": {
        "id": "wXPMfYf0FRV8",
        "colab": {
          "base_uri": "https://localhost:8080/"
        },
        "outputId": "335189d9-7dfa-411d-a047-cd4cc71f6d16"
      },
      "execution_count": null,
      "outputs": [
        {
          "output_type": "stream",
          "name": "stdout",
          "text": [
            "1 is odd\n",
            "2 is even\n",
            "3 is odd\n",
            "4 is even\n",
            "5 is odd\n",
            "6 is even\n",
            "7 is odd\n",
            "8 is even\n",
            "9 is odd\n",
            "10 is even\n",
            "11 is odd\n",
            "12 is even\n",
            "13 is odd\n",
            "14 is even\n",
            "15 is odd\n",
            "16 is even\n",
            "17 is odd\n",
            "18 is even\n",
            "19 is odd\n",
            "20 is even\n",
            "21 is odd\n",
            "22 is even\n",
            "23 is odd\n",
            "24 is even\n",
            "25 is odd\n",
            "26 is even\n",
            "27 is odd\n",
            "28 is even\n",
            "29 is odd\n",
            "30 is even\n",
            "31 is odd\n",
            "32 is even\n",
            "33 is odd\n",
            "34 is even\n",
            "35 is odd\n",
            "36 is even\n",
            "37 is odd\n",
            "38 is even\n",
            "39 is odd\n",
            "40 is even\n",
            "41 is odd\n",
            "42 is even\n",
            "43 is odd\n",
            "44 is even\n",
            "45 is odd\n",
            "46 is even\n",
            "47 is odd\n",
            "48 is even\n",
            "49 is odd\n",
            "50 is even\n",
            "51 is odd\n",
            "52 is even\n",
            "53 is odd\n",
            "54 is even\n",
            "55 is odd\n",
            "56 is even\n",
            "57 is odd\n",
            "58 is even\n",
            "59 is odd\n",
            "60 is even\n",
            "61 is odd\n",
            "62 is even\n",
            "63 is odd\n",
            "64 is even\n",
            "65 is odd\n",
            "66 is even\n",
            "67 is odd\n",
            "68 is even\n",
            "69 is odd\n",
            "70 is even\n",
            "71 is odd\n",
            "72 is even\n",
            "73 is odd\n",
            "74 is even\n",
            "75 is odd\n",
            "76 is even\n",
            "77 is odd\n",
            "78 is even\n",
            "79 is odd\n",
            "80 is even\n",
            "81 is odd\n",
            "82 is even\n",
            "83 is odd\n",
            "84 is even\n",
            "85 is odd\n",
            "86 is even\n",
            "87 is odd\n",
            "88 is even\n",
            "89 is odd\n",
            "90 is even\n",
            "91 is odd\n",
            "92 is even\n",
            "93 is odd\n",
            "94 is even\n",
            "95 is odd\n",
            "96 is even\n",
            "97 is odd\n",
            "98 is even\n",
            "99 is odd\n",
            "Count of even numbers is 49\n",
            "Count of odd numbers is 50\n"
          ]
        }
      ]
    },
    {
      "cell_type": "markdown",
      "source": [
        "#Compute the factorial of a given number. b) Compute GCD of two given \n",
        "numbers. c) Generate Fibonacci series up to N numbers."
      ],
      "metadata": {
        "id": "GYt77kDsOrD-"
      }
    },
    {
      "cell_type": "code",
      "source": [
        "import math\n",
        "print(math.factorial(4))\n",
        "print(math.gcd(4,40))"
      ],
      "metadata": {
        "colab": {
          "base_uri": "https://localhost:8080/"
        },
        "id": "kLUgOPTAO7np",
        "outputId": "688ad155-3471-4118-e5b2-d459e37364c1"
      },
      "execution_count": null,
      "outputs": [
        {
          "output_type": "stream",
          "name": "stdout",
          "text": [
            "24\n",
            "4\n"
          ]
        }
      ]
    },
    {
      "cell_type": "code",
      "source": [
        "n = int(input(\"Enter n value: \"))\n",
        "a=0\n",
        "b=1\n",
        "print(a)\n",
        "print(b)\n",
        "for i in range(2,n+1):\n",
        "\tc=a+b\n",
        "\tprint(c)\n",
        "\ta=b\n",
        "\tb=c"
      ],
      "metadata": {
        "colab": {
          "base_uri": "https://localhost:8080/"
        },
        "id": "SIhR61EzUv2a",
        "outputId": "f53adc71-aeb7-4330-ea9c-abb369f20da7"
      },
      "execution_count": null,
      "outputs": [
        {
          "output_type": "stream",
          "name": "stdout",
          "text": [
            "Enter n value: 10\n",
            "0\n",
            "1\n",
            "1\n",
            "2\n",
            "3\n",
            "5\n",
            "8\n",
            "13\n",
            "21\n",
            "34\n",
            "55\n"
          ]
        }
      ]
    },
    {
      "cell_type": "markdown",
      "source": [
        "#Check whether the given input is a) palindrome b) strong c) perfect"
      ],
      "metadata": {
        "id": "_RTqVEaZYyIQ"
      }
    },
    {
      "cell_type": "code",
      "source": [
        "#palindrome\n",
        "n=int(input(\"enter a number: \"))\n",
        "a=n\n",
        "sum=0\n",
        "while n>0:\n",
        "     k=n%10\n",
        "     sum=sum*10+k\n",
        "     n = n//10\n",
        "if sum ==a:\n",
        "       print(\"palindrome\")\n",
        "else:\n",
        "       print(\"not palindrome\")"
      ],
      "metadata": {
        "id": "XC4wXbj3Y7dO",
        "colab": {
          "base_uri": "https://localhost:8080/"
        },
        "outputId": "79c7950b-d2be-4ab9-f068-9b4d3d92203f"
      },
      "execution_count": 8,
      "outputs": [
        {
          "output_type": "stream",
          "name": "stdout",
          "text": [
            "enter a number: 121\n",
            "palindrome\n"
          ]
        }
      ]
    },
    {
      "cell_type": "code",
      "source": [
        "#strong number\n",
        "n=int(input(\"enter a number:\"))\n",
        "temp=n\n",
        "sum=0\n",
        "while n>0:\n",
        "   i=1\n",
        "   fact=1\n",
        "   rem=n%10\n",
        "   while i<=rem:\n",
        "     fact=fact*i\n",
        "     i=i+1\n",
        "   sum=sum+fact\n",
        "   n=n//10\n",
        "if temp ==sum:\n",
        "  print(\"strong number\")\n",
        "else:\n",
        "  print(\"not a stronge number\")\n"
      ],
      "metadata": {
        "colab": {
          "base_uri": "https://localhost:8080/"
        },
        "id": "KTDRhqWAIwQS",
        "outputId": "a204d059-8b18-4dd1-ba61-398f161d4dd5"
      },
      "execution_count": 12,
      "outputs": [
        {
          "output_type": "stream",
          "name": "stdout",
          "text": [
            "enter a number:145\n",
            "strong number\n"
          ]
        }
      ]
    },
    {
      "cell_type": "markdown",
      "source": [
        "#Compute compound interest using loop for a certain principal and interest amount"
      ],
      "metadata": {
        "id": "RLPvIzfWZbCe"
      }
    },
    {
      "cell_type": "code",
      "source": [
        "p=int(input(\"enter the prinicipal amount\"))\n",
        "t=int(input(\"enter the time period\"))\n",
        "r=int(input(\"enter the rate of interest\"))\n",
        "for i in range(t):\n",
        "    ci=p*(pow((1+r/100),t))\n",
        "    t=t+1 \n",
        "    print(ci)\n"
      ],
      "metadata": {
        "colab": {
          "base_uri": "https://localhost:8080/"
        },
        "id": "viaN_rNlZdR5",
        "outputId": "c2172f84-530e-4745-ef17-5bc7e109a5c3"
      },
      "execution_count": null,
      "outputs": [
        {
          "output_type": "stream",
          "name": "stdout",
          "text": [
            "enter the prinicipal amount250000\n",
            "enter the time period1\n",
            "enter the rate of interest36\n",
            "339999.99999999994\n"
          ]
        }
      ]
    }
  ]
}