{
  "nbformat": 4,
  "nbformat_minor": 0,
  "metadata": {
    "colab": {
      "name": "Tuple.ipynb",
      "provenance": [],
      "authorship_tag": "ABX9TyOnIJu0mkANecfoFSorvNMq",
      "include_colab_link": true
    },
    "kernelspec": {
      "name": "python3",
      "display_name": "Python 3"
    },
    "language_info": {
      "name": "python"
    }
  },
  "cells": [
    {
      "cell_type": "markdown",
      "metadata": {
        "id": "view-in-github",
        "colab_type": "text"
      },
      "source": [
        "<a href=\"https://colab.research.google.com/github/Devenderalla/python-/blob/main/Tuple.ipynb\" target=\"_parent\"><img src=\"https://colab.research.google.com/assets/colab-badge.svg\" alt=\"Open In Colab\"/></a>"
      ]
    },
    {
      "cell_type": "markdown",
      "source": [
        "#tuple"
      ],
      "metadata": {
        "id": "CUqMTU8mOPit"
      }
    },
    {
      "cell_type": "markdown",
      "source": [
        "#Tuples are used to store multiple items in a single variable."
      ],
      "metadata": {
        "id": "Y-CgiZemneyf"
      }
    },
    {
      "cell_type": "markdown",
      "source": [
        "#Tuples are written with round brackets."
      ],
      "metadata": {
        "id": "5cD4NMnqngXv"
      }
    },
    {
      "cell_type": "code",
      "source": [
        "a=(\"rrr\",\"kgf\",\"gani\")\n",
        "print(a)"
      ],
      "metadata": {
        "id": "LhGg9GkfOYzk",
        "colab": {
          "base_uri": "https://localhost:8080/"
        },
        "outputId": "34edbb29-d103-44fc-9cfe-2f32d9a4d938"
      },
      "execution_count": 2,
      "outputs": [
        {
          "output_type": "stream",
          "name": "stdout",
          "text": [
            "('rrr', 'kgf', 'gani')\n"
          ]
        }
      ]
    },
    {
      "cell_type": "markdown",
      "source": [
        "#Tuples allow duplicate values"
      ],
      "metadata": {
        "id": "Ur6YKLKlnmKO"
      }
    },
    {
      "cell_type": "code",
      "source": [
        "a=(\"rrr\",\"kgf\",\"gani\",\"rrr\",\"gani\")\n",
        "print(a)"
      ],
      "metadata": {
        "colab": {
          "base_uri": "https://localhost:8080/"
        },
        "id": "9mPR8dTwobN8",
        "outputId": "a2374916-3375-4421-9172-b25a57353045"
      },
      "execution_count": 3,
      "outputs": [
        {
          "output_type": "stream",
          "name": "stdout",
          "text": [
            "('rrr', 'kgf', 'gani', 'rrr', 'gani')\n"
          ]
        }
      ]
    },
    {
      "cell_type": "markdown",
      "source": [
        "#Tuple Length\n"
      ],
      "metadata": {
        "id": "ygR5MW9ipzzK"
      }
    },
    {
      "cell_type": "code",
      "source": [
        "a=(\"rrr\",\"kgf\",\"gani\")\n",
        "print(len(a))"
      ],
      "metadata": {
        "colab": {
          "base_uri": "https://localhost:8080/"
        },
        "id": "xoQN9KXvp6LY",
        "outputId": "f0a4d812-94ea-4429-b9d5-e670a9db36ea"
      },
      "execution_count": 4,
      "outputs": [
        {
          "output_type": "stream",
          "name": "stdout",
          "text": [
            "3\n"
          ]
        }
      ]
    },
    {
      "cell_type": "markdown",
      "source": [
        "#Create Tuple With One Item"
      ],
      "metadata": {
        "id": "WKK7khS9qzuN"
      }
    },
    {
      "cell_type": "markdown",
      "source": [
        "#One item tuple, remember the comma"
      ],
      "metadata": {
        "id": "LzmbbPzArRKG"
      }
    },
    {
      "cell_type": "code",
      "source": [
        "a=(\"kgf\",)\n",
        "print(type(a))\n",
        "#not a tuple\n",
        "a=(\"rrr\")\n",
        "print(type(a))"
      ],
      "metadata": {
        "colab": {
          "base_uri": "https://localhost:8080/"
        },
        "id": "jOAIZpAHrWtG",
        "outputId": "2b998410-0024-4387-82c1-4b5b205378ff"
      },
      "execution_count": 6,
      "outputs": [
        {
          "output_type": "stream",
          "name": "stdout",
          "text": [
            "<class 'tuple'>\n",
            "<class 'str'>\n"
          ]
        }
      ]
    },
    {
      "cell_type": "markdown",
      "source": [
        "#Data Types"
      ],
      "metadata": {
        "id": "09Z97VSitMdF"
      }
    },
    {
      "cell_type": "code",
      "source": [
        "tuple1=(\"rrr\",\"kgf\",\"gani\")\n",
        "tuple2=(1,4,6,7,8)\n",
        "tuple3=(True,False,True)\n",
        "print(tuple1)\n",
        "print(tuple2)\n",
        "print(tuple3)"
      ],
      "metadata": {
        "colab": {
          "base_uri": "https://localhost:8080/"
        },
        "id": "oqo2EYiWtSOd",
        "outputId": "bef3850a-8c6e-4588-b3c7-41521f654c48"
      },
      "execution_count": 13,
      "outputs": [
        {
          "output_type": "stream",
          "name": "stdout",
          "text": [
            "('rrr', 'kgf', 'gani')\n",
            "(1, 4, 6, 7, 8)\n",
            "(True, False, True)\n"
          ]
        }
      ]
    },
    {
      "cell_type": "markdown",
      "source": [
        "#A tuple can contain different data types:"
      ],
      "metadata": {
        "id": "7-4HJhkfxkI5"
      }
    },
    {
      "cell_type": "markdown",
      "source": [
        "#A tuple with strings, integers and boolean values"
      ],
      "metadata": {
        "id": "VdN4ReZ5zcNv"
      }
    },
    {
      "cell_type": "code",
      "source": [
        "tuple1=(\"abc\",40,True,36,\"men\")\n",
        "print(tuple1)"
      ],
      "metadata": {
        "colab": {
          "base_uri": "https://localhost:8080/"
        },
        "id": "M2DUnEaEzlHO",
        "outputId": "4a52c103-0ef5-4e93-9b8f-324ac02fe98c"
      },
      "execution_count": 15,
      "outputs": [
        {
          "output_type": "stream",
          "name": "stdout",
          "text": [
            "('abc', 40, True, 36, 'men')\n"
          ]
        }
      ]
    },
    {
      "cell_type": "markdown",
      "source": [
        "#The tuple() Constructor"
      ],
      "metadata": {
        "id": "yxMBnY1W2Oqv"
      }
    },
    {
      "cell_type": "markdown",
      "source": [
        "#It is also possible to use the tuple() constructor to make a tuple"
      ],
      "metadata": {
        "id": "4rD4-hQr3U5t"
      }
    },
    {
      "cell_type": "code",
      "source": [
        "a=tuple((\"rrr\",\"kgf\",\"gani\"))   #not the double bracekents print in output\n",
        "print(a)"
      ],
      "metadata": {
        "colab": {
          "base_uri": "https://localhost:8080/"
        },
        "id": "_WjeQ2zh3c-E",
        "outputId": "1a8ecefd-11bc-44a1-dbcf-e605524bcd5e"
      },
      "execution_count": 17,
      "outputs": [
        {
          "output_type": "stream",
          "name": "stdout",
          "text": [
            "('rrr', 'kgf', 'gani')\n"
          ]
        }
      ]
    }
  ]
}