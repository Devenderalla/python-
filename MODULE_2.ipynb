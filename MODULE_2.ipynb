{
  "nbformat": 4,
  "nbformat_minor": 0,
  "metadata": {
    "colab": {
      "name": "MODULE 2",
      "provenance": [],
      "authorship_tag": "ABX9TyP1st5KXVMFbU9CYU7xAkE4",
      "include_colab_link": true
    },
    "kernelspec": {
      "name": "python3",
      "display_name": "Python 3"
    },
    "language_info": {
      "name": "python"
    }
  },
  "cells": [
    {
      "cell_type": "markdown",
      "metadata": {
        "id": "view-in-github",
        "colab_type": "text"
      },
      "source": [
        "<a href=\"https://colab.research.google.com/github/Devenderalla/python-/blob/main/MODULE_2.ipynb\" target=\"_parent\"><img src=\"https://colab.research.google.com/assets/colab-badge.svg\" alt=\"Open In Colab\"/></a>"
      ]
    },
    {
      "cell_type": "markdown",
      "source": [
        "#Program to print a specified list after removing the 0th, 4th and 5th elements.\n",
        "Sample List : ['Red', 'Green', 'White', 'Black', 'Pink', 'Yellow']\n",
        "Expected Output : ['Green', 'White', 'Black']"
      ],
      "metadata": {
        "id": "7IkddzA3t-JO"
      }
    },
    {
      "cell_type": "code",
      "source": [
        "a=['Red', 'Green', 'White', 'Black', 'Pink', 'Yellow']\n",
        "del a[0]\n",
        "del a[3]\n",
        "del a[3]\n",
        "print(a)\n"
      ],
      "metadata": {
        "id": "JNH4Xv8UuHes",
        "colab": {
          "base_uri": "https://localhost:8080/"
        },
        "outputId": "bb430496-f6be-4ef2-bd14-218c4ca6574d"
      },
      "execution_count": null,
      "outputs": [
        {
          "output_type": "stream",
          "name": "stdout",
          "text": [
            "['Green', 'White', 'Black']\n"
          ]
        }
      ]
    },
    {
      "cell_type": "markdown",
      "source": [
        "#Create a function which accepts two inputs from the user and compute nCr"
      ],
      "metadata": {
        "id": "1RT1VDtXj1xO"
      }
    },
    {
      "cell_type": "code",
      "source": [
        "def fac(a):\n",
        "   f=1\n",
        "   for i in range(1,a+1):\n",
        "     f=f*i\n",
        "   return f\n",
        "def Ncr(n,r):\n",
        "  x=fac(n)\n",
        "  y=fac(r)\n",
        "  z=fac(n-r)\n",
        "  ncr=x/(y*z)\n",
        "  return ncr\n",
        "n=int(input(\"enter a number: \"))\n",
        "r=int(input(\"enter a number\"))\n",
        "Ncr(n,r)  "
      ],
      "metadata": {
        "colab": {
          "base_uri": "https://localhost:8080/"
        },
        "id": "hujArh1Mx1rW",
        "outputId": "ae8125a0-3f4e-451f-b1fd-06b19bca323d"
      },
      "execution_count": null,
      "outputs": [
        {
          "name": "stdout",
          "output_type": "stream",
          "text": [
            "enter a number: 4\n",
            "enter a number2\n"
          ]
        },
        {
          "output_type": "execute_result",
          "data": {
            "text/plain": [
              "6.0"
            ]
          },
          "metadata": {},
          "execution_count": 3
        }
      ]
    },
    {
      "cell_type": "markdown",
      "source": [
        "#Recursive function to compute GCD of 2 numbers"
      ],
      "metadata": {
        "id": "Z175WFeAkpsw"
      }
    },
    {
      "cell_type": "code",
      "source": [
        "import math           #gcd=LCM\n",
        "def GCD(x,y):\n",
        "    r=x%y              #remainder\n",
        "    if(r==0):\n",
        "        return y\n",
        "    else:\n",
        "        return GCD(y,r)       #GCD(y,r) we have taken y is diviser and r is remainder.because they two are math functions.\n",
        "n= int(input(\"Enter the first number :\"))\n",
        "m= int(input(\"Enter the second number :\"))\n",
        "print(\"The GCD of two numbers is:\", GCD(n,m))\n"
      ],
      "metadata": {
        "colab": {
          "base_uri": "https://localhost:8080/"
        },
        "id": "EZoWAKNKx6kU",
        "outputId": "d300b636-532b-4a35-dea2-179634d47dbc"
      },
      "execution_count": 16,
      "outputs": [
        {
          "output_type": "stream",
          "name": "stdout",
          "text": [
            "Enter the first number :18\n",
            "Enter the second number :20\n",
            "The GCD of two numbers is: 2\n"
          ]
        }
      ]
    },
    {
      "cell_type": "markdown",
      "source": [
        "#Recursive function to generate Fibonacci series"
      ],
      "metadata": {
        "id": "UNcSOl0axFD7"
      }
    },
    {
      "cell_type": "code",
      "source": [
        "def recur_fibo(n):  \n",
        "   if n <= 1:  \n",
        "       return n  \n",
        "   else:  \n",
        "       return(recur_fibo(n-1) + recur_fibo(n-2))  \n",
        "# take input from the user  \n",
        "nterms = int(input(\"How many terms? \"))  \n",
        "# check if the number of terms is valid  \n",
        "if nterms <= 0:  \n",
        "   print(\"Please enter a positive integer\")  \n",
        "else:  \n",
        "   print(\"Fibonacci sequence:\")  \n",
        "   for i in range(nterms):  \n",
        "       print(recur_fibo(i))  \n"
      ],
      "metadata": {
        "colab": {
          "base_uri": "https://localhost:8080/"
        },
        "id": "VgAfoklEx_U8",
        "outputId": "a43b7e33-92c1-46b0-a6bf-490f356e6544"
      },
      "execution_count": null,
      "outputs": [
        {
          "output_type": "stream",
          "name": "stdout",
          "text": [
            "How many terms? 10\n",
            "Fibonacci sequence:\n",
            "0\n",
            "1\n",
            "1\n",
            "2\n",
            "3\n",
            "5\n",
            "8\n",
            "13\n",
            "21\n",
            "34\n"
          ]
        }
      ]
    },
    {
      "cell_type": "markdown",
      "source": [
        "##Program to get the difference between the two lists"
      ],
      "metadata": {
        "id": "Fmzew9zE1vQz"
      }
    },
    {
      "cell_type": "code",
      "source": [
        "list1 = [23,45,31,76,89,56,99]\n",
        "list2 = [54,66,11,34,23,99,31]\n",
        "d12 = list(set(list1) - set(list2))     #d12=difference of list 1 and diff of list 2\n",
        "d21 = list(set(list2) - set(list1))     #d21=difference of list 2 and diff of list 1\n",
        "diff = d12 + d21                        #now diff and d12+d21 means remaing values which is not common\n",
        "print(diff)\n",
        "\n"
      ],
      "metadata": {
        "colab": {
          "base_uri": "https://localhost:8080/"
        },
        "id": "itIZCcPCywzo",
        "outputId": "d9a2ef6a-207a-4768-dc75-dc5262c3af0e"
      },
      "execution_count": 6,
      "outputs": [
        {
          "output_type": "stream",
          "name": "stdout",
          "text": [
            "[56, 89, 76, 45, 66, 11, 34, 54]\n"
          ]
        }
      ]
    },
    {
      "cell_type": "markdown",
      "source": [
        "#Program to find the second smallest number and second largest number in a list"
      ],
      "metadata": {
        "id": "81TJyJY3xOjG"
      }
    },
    {
      "cell_type": "code",
      "source": [
        "def second(a):          #second means function call\n",
        "  a.sort()               \n",
        "  print(a[1])    \n",
        "  print(a[-2])\n",
        "  print(a)\n",
        "a=[1,99,44,58,2,60]\n",
        "second(a)"
      ],
      "metadata": {
        "colab": {
          "base_uri": "https://localhost:8080/"
        },
        "id": "dAqfyFVAy0kf",
        "outputId": "f3fd1ecf-2f78-42e4-c7f9-21e6cc753be0"
      },
      "execution_count": 4,
      "outputs": [
        {
          "output_type": "stream",
          "name": "stdout",
          "text": [
            "2\n",
            "60\n",
            "[1, 2, 44, 58, 60, 99]\n"
          ]
        }
      ]
    },
    {
      "cell_type": "markdown",
      "source": [
        "#Program to remove a key from a dictionary"
      ],
      "metadata": {
        "id": "1BerQwqO7SCD"
      }
    },
    {
      "cell_type": "code",
      "source": [
        "d1 = {\"rrr\":\"ram\",\n",
        "      \"kgf\":\"yash\",\n",
        "      \"svp\":\"mb\"}\n",
        "del d1[\"rrr\"]\n",
        "print(d1)"
      ],
      "metadata": {
        "id": "MbD8frfO7ZKY",
        "colab": {
          "base_uri": "https://localhost:8080/"
        },
        "outputId": "cfa0013a-b1bc-456c-f4f6-9ff863f7ad58"
      },
      "execution_count": 36,
      "outputs": [
        {
          "output_type": "stream",
          "name": "stdout",
          "text": [
            "{'kgf': 'yash', 'svp': 'mb'}\n"
          ]
        }
      ]
    },
    {
      "cell_type": "markdown",
      "source": [
        "#Program to get the maximum and minimum value in a dictionary"
      ],
      "metadata": {
        "id": "PXr6eCUZ7ZXj"
      }
    },
    {
      "cell_type": "code",
      "source": [
        ""
      ],
      "metadata": {
        "id": "n0TkuDjM7eRw"
      },
      "execution_count": null,
      "outputs": []
    },
    {
      "cell_type": "markdown",
      "source": [
        "#Recursive function to find product of two numbers"
      ],
      "metadata": {
        "id": "e9TAc1ml_6tM"
      }
    },
    {
      "cell_type": "code",
      "source": [
        "def product(a,b):\n",
        "    if(a<b):\n",
        "        return product(b,a)\n",
        "    elif(b!=0):\n",
        "        return(a+product(a,b-1))\n",
        "    else:\n",
        "        return 0\n",
        "a=int(input(\"Enter first number: \"))\n",
        "b=int(input(\"Enter second number: \"))\n",
        "print(\"Product is: \",product(a,b))"
      ],
      "metadata": {
        "colab": {
          "base_uri": "https://localhost:8080/"
        },
        "id": "GC1OIaFs_8DG",
        "outputId": "84271eca-14e3-4304-8e95-21607fa77e28"
      },
      "execution_count": 28,
      "outputs": [
        {
          "output_type": "stream",
          "name": "stdout",
          "text": [
            "Enter first number: 5\n",
            "Enter second number: 7\n",
            "Product is:  35\n"
          ]
        }
      ]
    }
  ]
}