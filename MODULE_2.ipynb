{
  "nbformat": 4,
  "nbformat_minor": 0,
  "metadata": {
    "colab": {
      "name": "MODULE 2",
      "provenance": [],
      "authorship_tag": "ABX9TyMmexFcQ65oxQe5kW1bxKhp",
      "include_colab_link": true
    },
    "kernelspec": {
      "name": "python3",
      "display_name": "Python 3"
    },
    "language_info": {
      "name": "python"
    }
  },
  "cells": [
    {
      "cell_type": "markdown",
      "metadata": {
        "id": "view-in-github",
        "colab_type": "text"
      },
      "source": [
        "<a href=\"https://colab.research.google.com/github/Devenderalla/python-/blob/main/MODULE_2.ipynb\" target=\"_parent\"><img src=\"https://colab.research.google.com/assets/colab-badge.svg\" alt=\"Open In Colab\"/></a>"
      ]
    },
    {
      "cell_type": "markdown",
      "source": [
        "#Program to print a specified list after removing the 0th, 4th and 5th elements.\n",
        "Sample List : ['Red', 'Green', 'White', 'Black', 'Pink', 'Yellow']\n",
        "Expected Output : ['Green', 'White', 'Black']"
      ],
      "metadata": {
        "id": "7IkddzA3t-JO"
      }
    },
    {
      "cell_type": "code",
      "source": [
        "a=['Red', 'Green', 'White', 'Black', 'Pink', 'Yellow']\n",
        "del a[0]\n",
        "del a[3]\n",
        "del a[3]\n",
        "print(a)\n"
      ],
      "metadata": {
        "id": "JNH4Xv8UuHes",
        "colab": {
          "base_uri": "https://localhost:8080/"
        },
        "outputId": "bb430496-f6be-4ef2-bd14-218c4ca6574d"
      },
      "execution_count": 18,
      "outputs": [
        {
          "output_type": "stream",
          "name": "stdout",
          "text": [
            "['Green', 'White', 'Black']\n"
          ]
        }
      ]
    },
    {
      "cell_type": "code",
      "source": [
        "#Create a function which accepts two inputs from the user and compute nCr\n",
        "def fac(a):\n",
        "   f=1\n",
        "   for i in range(1,a+1):\n",
        "     f=f*i\n",
        "   return f\n",
        "def Ncr(n,r):\n",
        "  x=fac(n)\n",
        "  y=fac(r)\n",
        "  z=fac(n-r)\n",
        "  ncr=x/(y*z)\n",
        "  return ncr\n",
        "n=int(input(\"enter a number: \"))\n",
        "r=int(input(\"enter a number\"))\n",
        "Ncr(n,r)  "
      ],
      "metadata": {
        "colab": {
          "base_uri": "https://localhost:8080/",
          "height": 0
        },
        "id": "hujArh1Mx1rW",
        "outputId": "ae8125a0-3f4e-451f-b1fd-06b19bca323d"
      },
      "execution_count": 3,
      "outputs": [
        {
          "name": "stdout",
          "output_type": "stream",
          "text": [
            "enter a number: 4\n",
            "enter a number2\n"
          ]
        },
        {
          "output_type": "execute_result",
          "data": {
            "text/plain": [
              "6.0"
            ]
          },
          "metadata": {},
          "execution_count": 3
        }
      ]
    },
    {
      "cell_type": "code",
      "source": [
        "#Recursive function to compute GCD of 2 numbers\n",
        "import math\n",
        "def GCD(x,y):\n",
        "    r=x%y\n",
        "    if(r==0):\n",
        "        return y\n",
        "    else:\n",
        "        return GCD(y,r)\n",
        "n= int(input(\"Enter the first number :\"))\n",
        "m= int(input(\"Enter the second number :\"))\n",
        "print(\"The GCD of two numbers is:\", GCD(n,m))\n"
      ],
      "metadata": {
        "colab": {
          "base_uri": "https://localhost:8080/",
          "height": 0
        },
        "id": "EZoWAKNKx6kU",
        "outputId": "a75d33b3-9c53-44c4-fd48-11d4a6a76802"
      },
      "execution_count": 4,
      "outputs": [
        {
          "output_type": "stream",
          "name": "stdout",
          "text": [
            "Enter the first number :36\n",
            "Enter the second number :45\n",
            "The GCD of two numbers is: 9\n"
          ]
        }
      ]
    },
    {
      "cell_type": "code",
      "source": [
        "#Recursive function to generate Fibonacci series\n",
        "def recur_fibo(n):  \n",
        "   if n <= 1:  \n",
        "       return n  \n",
        "   else:  \n",
        "       return(recur_fibo(n-1) + recur_fibo(n-2))  \n",
        "# take input from the user  \n",
        "nterms = int(input(\"How many terms? \"))  \n",
        "# check if the number of terms is valid  \n",
        "if nterms <= 0:  \n",
        "   print(\"Please enter a positive integer\")  \n",
        "else:  \n",
        "   print(\"Fibonacci sequence:\")  \n",
        "   for i in range(nterms):  \n",
        "       print(recur_fibo(i))  \n"
      ],
      "metadata": {
        "colab": {
          "base_uri": "https://localhost:8080/",
          "height": 0
        },
        "id": "VgAfoklEx_U8",
        "outputId": "a43b7e33-92c1-46b0-a6bf-490f356e6544"
      },
      "execution_count": 5,
      "outputs": [
        {
          "output_type": "stream",
          "name": "stdout",
          "text": [
            "How many terms? 10\n",
            "Fibonacci sequence:\n",
            "0\n",
            "1\n",
            "1\n",
            "2\n",
            "3\n",
            "5\n",
            "8\n",
            "13\n",
            "21\n",
            "34\n"
          ]
        }
      ]
    },
    {
      "cell_type": "code",
      "source": [
        "#Program to get the difference between the two lists\n",
        "def diff1(a,b):\n",
        "  c=set(a)\n",
        "  d=set(b)\n",
        "  e=c.difference(d)\n",
        "  f=list(e)\n",
        "  return f\n",
        "a=[1,2,3,4,5]\n",
        "b=[20,30,1,2]\n",
        "diff1(a,b)"
      ],
      "metadata": {
        "colab": {
          "base_uri": "https://localhost:8080/"
        },
        "id": "itIZCcPCywzo",
        "outputId": "16296b6a-4808-414c-f9a1-6acf0891b855"
      },
      "execution_count": 8,
      "outputs": [
        {
          "output_type": "execute_result",
          "data": {
            "text/plain": [
              "[3, 4, 5]"
            ]
          },
          "metadata": {},
          "execution_count": 8
        }
      ]
    },
    {
      "cell_type": "code",
      "source": [
        "#Program to find the second smallest number and second largest number in a list.\n",
        "def second1(a):\n",
        "  a.sort()\n",
        "  print(a[1])\n",
        "  print(a[-2])\n",
        "a=[1,99,44,58,2,60]\n",
        "second1(a)"
      ],
      "metadata": {
        "colab": {
          "base_uri": "https://localhost:8080/"
        },
        "id": "dAqfyFVAy0kf",
        "outputId": "a37b3979-aab4-467d-d421-502c1f5183a4"
      },
      "execution_count": 9,
      "outputs": [
        {
          "output_type": "stream",
          "name": "stdout",
          "text": [
            "2\n",
            "60\n"
          ]
        }
      ]
    },
    {
      "cell_type": "markdown",
      "source": [
        "#Program to remove a key from a dictionary"
      ],
      "metadata": {
        "id": "1BerQwqO7SCD"
      }
    },
    {
      "cell_type": "code",
      "source": [
        ""
      ],
      "metadata": {
        "id": "MbD8frfO7ZKY"
      },
      "execution_count": null,
      "outputs": []
    },
    {
      "cell_type": "markdown",
      "source": [
        "#Program to get the maximum and minimum value in a dictionary"
      ],
      "metadata": {
        "id": "PXr6eCUZ7ZXj"
      }
    },
    {
      "cell_type": "code",
      "source": [
        ""
      ],
      "metadata": {
        "id": "n0TkuDjM7eRw"
      },
      "execution_count": null,
      "outputs": []
    }
  ]
}