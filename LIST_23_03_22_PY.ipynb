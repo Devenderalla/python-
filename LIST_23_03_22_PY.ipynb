{
  "nbformat": 4,
  "nbformat_minor": 0,
  "metadata": {
    "colab": {
      "name": "LIST 23/03/22 .PY",
      "provenance": [],
      "authorship_tag": "ABX9TyO7fjNLTD10HFpY3mE4AznY",
      "include_colab_link": true
    },
    "kernelspec": {
      "name": "python3",
      "display_name": "Python 3"
    },
    "language_info": {
      "name": "python"
    }
  },
  "cells": [
    {
      "cell_type": "markdown",
      "metadata": {
        "id": "view-in-github",
        "colab_type": "text"
      },
      "source": [
        "<a href=\"https://colab.research.google.com/github/Devenderalla/python-/blob/main/LIST_23_03_22_PY.ipynb\" target=\"_parent\"><img src=\"https://colab.research.google.com/assets/colab-badge.svg\" alt=\"Open In Colab\"/></a>"
      ]
    },
    {
      "cell_type": "markdown",
      "source": [
        "#fruit names"
      ],
      "metadata": {
        "id": "0GbAb2ur42jO"
      }
    },
    {
      "cell_type": "code",
      "source": [
        "fruit=['mango','apple','orange','pappaya','strawberry']\n",
        "print(fruit[0])"
      ],
      "metadata": {
        "colab": {
          "base_uri": "https://localhost:8080/"
        },
        "id": "09bjxaGP45bu",
        "outputId": "125911b4-b109-4d83-b639-ef61f61e4158"
      },
      "execution_count": 2,
      "outputs": [
        {
          "output_type": "stream",
          "name": "stdout",
          "text": [
            "mango\n"
          ]
        }
      ]
    },
    {
      "cell_type": "code",
      "source": [
        "fruit=['mango','apple','orange','pappaya','strawberry']\n",
        "print(fruit[0:3])\n",
        "print(fruit[-2])\n",
        "print(fruit[-1:-3])\n"
      ],
      "metadata": {
        "colab": {
          "base_uri": "https://localhost:8080/"
        },
        "id": "6MjeqkIn5yYk",
        "outputId": "022a6848-1946-43a5-90ee-fd721f7e447a"
      },
      "execution_count": 10,
      "outputs": [
        {
          "output_type": "stream",
          "name": "stdout",
          "text": [
            "['mango', 'apple', 'orange']\n",
            "pappaya\n",
            "[]\n"
          ]
        }
      ]
    },
    {
      "cell_type": "code",
      "source": [
        "a=[20,45,67,33,44,12,34,10,20]\n",
        "b=a[5]/a[7]\n",
        "print(b)\n",
        "print(a[0:5])\n",
        "print(a[7])"
      ],
      "metadata": {
        "colab": {
          "base_uri": "https://localhost:8080/"
        },
        "id": "ZkG-Vdiw8dFu",
        "outputId": "46bb3364-0fa8-484a-ee6f-85a3ed819059"
      },
      "execution_count": 14,
      "outputs": [
        {
          "output_type": "stream",
          "name": "stdout",
          "text": [
            "1.2\n",
            "[20, 45, 67, 33, 44]\n",
            "10\n"
          ]
        }
      ]
    },
    {
      "cell_type": "code",
      "source": [
        "for i in range(7, 10):\n",
        " print(i)"
      ],
      "metadata": {
        "colab": {
          "base_uri": "https://localhost:8080/"
        },
        "id": "dOBqHBAh99Y3",
        "outputId": "42946b62-2009-4ebf-c5d1-096a525cec1e"
      },
      "execution_count": 18,
      "outputs": [
        {
          "output_type": "stream",
          "name": "stdout",
          "text": [
            "7\n",
            "8\n",
            "9\n"
          ]
        }
      ]
    }
  ]
}