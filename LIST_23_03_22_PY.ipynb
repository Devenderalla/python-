{
  "nbformat": 4,
  "nbformat_minor": 0,
  "metadata": {
    "colab": {
      "name": "LIST 23/03/22 .PY",
      "provenance": [],
      "authorship_tag": "ABX9TyPAMXPNCv31g4iFis2t5SRV",
      "include_colab_link": true
    },
    "kernelspec": {
      "name": "python3",
      "display_name": "Python 3"
    },
    "language_info": {
      "name": "python"
    }
  },
  "cells": [
    {
      "cell_type": "markdown",
      "metadata": {
        "id": "view-in-github",
        "colab_type": "text"
      },
      "source": [
        "<a href=\"https://colab.research.google.com/github/Devenderalla/python-/blob/main/LIST_23_03_22_PY.ipynb\" target=\"_parent\"><img src=\"https://colab.research.google.com/assets/colab-badge.svg\" alt=\"Open In Colab\"/></a>"
      ]
    },
    {
      "cell_type": "markdown",
      "source": [
        "#fruit names"
      ],
      "metadata": {
        "id": "0GbAb2ur42jO"
      }
    },
    {
      "cell_type": "code",
      "source": [
        "fruit=['mango','apple','orange','pappaya','strawberry']\n",
        "print(fruit[0])"
      ],
      "metadata": {
        "colab": {
          "base_uri": "https://localhost:8080/"
        },
        "id": "09bjxaGP45bu",
        "outputId": "125911b4-b109-4d83-b639-ef61f61e4158"
      },
      "execution_count": 2,
      "outputs": [
        {
          "output_type": "stream",
          "name": "stdout",
          "text": [
            "mango\n"
          ]
        }
      ]
    },
    {
      "cell_type": "code",
      "source": [
        "fruit=['mango','apple','orange','pappaya','strawberry']\n",
        "print(fruit[0:3])\n",
        "print(fruit[-2])\n",
        "print(fruit[-1:-3])\n"
      ],
      "metadata": {
        "colab": {
          "base_uri": "https://localhost:8080/"
        },
        "id": "6MjeqkIn5yYk",
        "outputId": "022a6848-1946-43a5-90ee-fd721f7e447a"
      },
      "execution_count": 10,
      "outputs": [
        {
          "output_type": "stream",
          "name": "stdout",
          "text": [
            "['mango', 'apple', 'orange']\n",
            "pappaya\n",
            "[]\n"
          ]
        }
      ]
    },
    {
      "cell_type": "markdown",
      "source": [
        "#insert"
      ],
      "metadata": {
        "id": "pytI_SfBIkkf"
      }
    },
    {
      "cell_type": "code",
      "source": [
        "fruit=['mango','apple','orange','pappaya','strawberry']\n",
        "fruit.insert(4,'apple')\n",
        "print(fruit)"
      ],
      "metadata": {
        "colab": {
          "base_uri": "https://localhost:8080/"
        },
        "id": "rI9eEhHZIMyP",
        "outputId": "24e3a874-3213-4cf6-d2bc-e1ae23d3ff7e"
      },
      "execution_count": 22,
      "outputs": [
        {
          "output_type": "stream",
          "name": "stdout",
          "text": [
            "['mango', 'apple', 'orange', 'pappaya', 'apple', 'strawberry']\n"
          ]
        }
      ]
    },
    {
      "cell_type": "markdown",
      "source": [
        "# operaters"
      ],
      "metadata": {
        "id": "EF0KXYoBI_Wj"
      }
    },
    {
      "cell_type": "code",
      "source": [
        "a=[20,45,67,33,44,12,34,10,20]\n",
        "b=a[5]/a[7]\n",
        "print(b)\n",
        "print(a[0:5])\n",
        "print(a[7])"
      ],
      "metadata": {
        "colab": {
          "base_uri": "https://localhost:8080/"
        },
        "id": "ZkG-Vdiw8dFu",
        "outputId": "46bb3364-0fa8-484a-ee6f-85a3ed819059"
      },
      "execution_count": 14,
      "outputs": [
        {
          "output_type": "stream",
          "name": "stdout",
          "text": [
            "1.2\n",
            "[20, 45, 67, 33, 44]\n",
            "10\n"
          ]
        }
      ]
    },
    {
      "cell_type": "markdown",
      "source": [
        "# for in pythone"
      ],
      "metadata": {
        "id": "4qVxRAVRI1C7"
      }
    },
    {
      "cell_type": "code",
      "source": [
        "for i in range(7, 10):\n",
        " print(i)"
      ],
      "metadata": {
        "colab": {
          "base_uri": "https://localhost:8080/"
        },
        "id": "dOBqHBAh99Y3",
        "outputId": "42946b62-2009-4ebf-c5d1-096a525cec1e"
      },
      "execution_count": 18,
      "outputs": [
        {
          "output_type": "stream",
          "name": "stdout",
          "text": [
            "7\n",
            "8\n",
            "9\n"
          ]
        }
      ]
    },
    {
      "cell_type": "markdown",
      "source": [
        "#append,extend"
      ],
      "metadata": {
        "id": "NKqQUyCxIsbv"
      }
    },
    {
      "cell_type": "code",
      "source": [
        "a=[12,45,76,77,56,34,5,7,8,9,3,2,1]\n",
        "a.append(88)\n",
        "print(a)\n",
        "a.extend([54,66,77,88])\n",
        "print(a)"
      ],
      "metadata": {
        "colab": {
          "base_uri": "https://localhost:8080/"
        },
        "id": "8k9tHS_HGbX3",
        "outputId": "dbc392db-ec69-4fcf-92e5-7c69320859a7"
      },
      "execution_count": 21,
      "outputs": [
        {
          "output_type": "stream",
          "name": "stdout",
          "text": [
            "[12, 45, 76, 77, 56, 34, 5, 7, 8, 9, 3, 2, 1, 88]\n",
            "[12, 45, 76, 77, 56, 34, 5, 7, 8, 9, 3, 2, 1, 88, 54, 66, 77, 88]\n"
          ]
        }
      ]
    },
    {
      "cell_type": "markdown",
      "source": [
        "#reverse"
      ],
      "metadata": {
        "id": "fD88sSEEKdaQ"
      }
    },
    {
      "cell_type": "code",
      "source": [
        "fruit=['mango','apple','orange','pappaya','strawberry']\n",
        "fruit.reverse()\n",
        "print(fruit)\n"
      ],
      "metadata": {
        "colab": {
          "base_uri": "https://localhost:8080/"
        },
        "id": "MMsOYKyiKiJZ",
        "outputId": "fa69bf25-2778-4553-9843-a9380765fe1a"
      },
      "execution_count": 25,
      "outputs": [
        {
          "output_type": "stream",
          "name": "stdout",
          "text": [
            "['strawberry', 'pappaya', 'orange', 'apple', 'mango']\n"
          ]
        }
      ]
    },
    {
      "cell_type": "markdown",
      "source": [
        "#sort\n"
      ],
      "metadata": {
        "id": "fKJqApdPK2kl"
      }
    },
    {
      "cell_type": "code",
      "source": [
        "fruit=['mango','apple','orange','pappaya','strawberry']\n",
        "fruit.sort()\n",
        "print(fruit)"
      ],
      "metadata": {
        "colab": {
          "base_uri": "https://localhost:8080/"
        },
        "id": "u2IflnVvK7Mk",
        "outputId": "cabb13bc-3986-4839-c444-85699ff4a9da"
      },
      "execution_count": 26,
      "outputs": [
        {
          "output_type": "stream",
          "name": "stdout",
          "text": [
            "['apple', 'mango', 'orange', 'pappaya', 'strawberry']\n"
          ]
        }
      ]
    }
  ]
}