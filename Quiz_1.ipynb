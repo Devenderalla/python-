{
  "nbformat": 4,
  "nbformat_minor": 0,
  "metadata": {
    "colab": {
      "name": "Quiz 1",
      "provenance": [],
      "authorship_tag": "ABX9TyPrZdzU2cFpYVz+utnKxgi8",
      "include_colab_link": true
    },
    "kernelspec": {
      "name": "python3",
      "display_name": "Python 3"
    },
    "language_info": {
      "name": "python"
    }
  },
  "cells": [
    {
      "cell_type": "markdown",
      "metadata": {
        "id": "view-in-github",
        "colab_type": "text"
      },
      "source": [
        "<a href=\"https://colab.research.google.com/github/Devenderalla/python-/blob/main/Quiz_1.ipynb\" target=\"_parent\"><img src=\"https://colab.research.google.com/assets/colab-badge.svg\" alt=\"Open In Colab\"/></a>"
      ]
    },
    {
      "cell_type": "markdown",
      "source": [
        "#Write a program of swapping of two numbers \n",
        "\n"
      ],
      "metadata": {
        "id": "xoxXf1Z_iC56"
      }
    },
    {
      "cell_type": "code",
      "source": [
        "a=2\n",
        "b=3\n",
        "c=a\n",
        "a=b\n",
        "b=c\n",
        "print(\"Result =\",a,b)"
      ],
      "metadata": {
        "colab": {
          "base_uri": "https://localhost:8080/"
        },
        "id": "QD93Lr9liF8B",
        "outputId": "b19edb91-72bb-4182-e227-0e9925ae7d3b"
      },
      "execution_count": 2,
      "outputs": [
        {
          "output_type": "stream",
          "name": "stdout",
          "text": [
            "Result = 3 2\n"
          ]
        }
      ]
    },
    {
      "cell_type": "markdown",
      "source": [
        "#Find out the square root of the number"
      ],
      "metadata": {
        "id": "mssQCk_ujcMb"
      }
    },
    {
      "cell_type": "code",
      "source": [
        "a=4\n",
        "b=pow(a,0.5)\n",
        "print(b)"
      ],
      "metadata": {
        "colab": {
          "base_uri": "https://localhost:8080/"
        },
        "id": "qeBgdBC1jiSq",
        "outputId": "93bfafae-5a11-401b-824d-26df7870f8ce"
      },
      "execution_count": 3,
      "outputs": [
        {
          "output_type": "stream",
          "name": "stdout",
          "text": [
            "2.0\n"
          ]
        }
      ]
    },
    {
      "cell_type": "markdown",
      "source": [
        "#Find out the Largest of three numbers from the give input"
      ],
      "metadata": {
        "id": "XJ1KnCs8jyNq"
      }
    },
    {
      "cell_type": "code",
      "source": [
        "a=5\n",
        "b=3\n",
        "c=2\n",
        "if a>b and a>c:\n",
        " print(a)\n",
        "elif b>c and b>a:\n",
        " print(b)\n",
        "else:\n",
        " print(c)"
      ],
      "metadata": {
        "colab": {
          "base_uri": "https://localhost:8080/"
        },
        "id": "ZNr5tIyYj2si",
        "outputId": "c1604f28-eaca-44e7-ddb3-31dcae7593b4"
      },
      "execution_count": 4,
      "outputs": [
        {
          "output_type": "stream",
          "name": "stdout",
          "text": [
            "5\n"
          ]
        }
      ]
    },
    {
      "cell_type": "markdown",
      "source": [
        "#Add Black color to the given list in the 4th place.\n",
        "\n",
        " Rainbow = ['Red', 'Orange', 'Yellow', 'Green'] "
      ],
      "metadata": {
        "id": "C8pAnsEIj7wK"
      }
    },
    {
      "cell_type": "code",
      "source": [
        "Rainbow = ['Red', 'Orange', 'Yellow', 'Green']\n",
        "Rainbow.insert(3,'black') \n",
        "print(Rainbow)"
      ],
      "metadata": {
        "colab": {
          "base_uri": "https://localhost:8080/"
        },
        "id": "kMSgbUsekCOy",
        "outputId": "d92d1387-992b-47dc-8ee8-96a976683341"
      },
      "execution_count": 10,
      "outputs": [
        {
          "output_type": "stream",
          "name": "stdout",
          "text": [
            "['Red', 'Orange', 'Yellow', 'black', 'Green']\n"
          ]
        }
      ]
    }
  ]
}