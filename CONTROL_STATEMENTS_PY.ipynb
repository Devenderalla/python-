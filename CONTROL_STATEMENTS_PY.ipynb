{
  "nbformat": 4,
  "nbformat_minor": 0,
  "metadata": {
    "colab": {
      "name": "CONTROL STATEMENTS.PY",
      "provenance": [],
      "authorship_tag": "ABX9TyOy1Lv/ydf1p+gdu0Fs8d/s",
      "include_colab_link": true
    },
    "kernelspec": {
      "name": "python3",
      "display_name": "Python 3"
    },
    "language_info": {
      "name": "python"
    }
  },
  "cells": [
    {
      "cell_type": "markdown",
      "metadata": {
        "id": "view-in-github",
        "colab_type": "text"
      },
      "source": [
        "<a href=\"https://colab.research.google.com/github/Devenderalla/python-/blob/main/CONTROL_STATEMENTS_PY.ipynb\" target=\"_parent\"><img src=\"https://colab.research.google.com/assets/colab-badge.svg\" alt=\"Open In Colab\"/></a>"
      ]
    },
    {
      "cell_type": "code",
      "execution_count": null,
      "metadata": {
        "colab": {
          "base_uri": "https://localhost:8080/"
        },
        "id": "Kd0iDtWmPwd2",
        "outputId": "7a779c59-fdff-407d-bddb-4e72f5cf9859"
      },
      "outputs": [
        {
          "output_type": "stream",
          "name": "stdout",
          "text": [
            "enter age :18\n",
            "eligible\n"
          ]
        }
      ],
      "source": [
        "#find out the person is eligible for voting or not\n",
        "a=int(input(\"enter age :\"))\n",
        "if(a>=18):\n",
        " print(\"eligible\")\n",
        "else:\n",
        " print(\"not eligible\")"
      ]
    },
    {
      "cell_type": "code",
      "source": [
        "#find out the person is eligible for voting or not\n",
        "a=int(input(\"enter age :\"))\n",
        "if(a>=18):\n",
        " print(\"eligible\")\n",
        "else:\n",
        " print(\"not eligible\")"
      ],
      "metadata": {
        "colab": {
          "base_uri": "https://localhost:8080/"
        },
        "id": "2lFLO4nvS5qZ",
        "outputId": "cec13494-8204-427a-de54-dd5ca7300f9b"
      },
      "execution_count": null,
      "outputs": [
        {
          "output_type": "stream",
          "name": "stdout",
          "text": [
            "enter age :17\n",
            "not eligible\n"
          ]
        }
      ]
    },
    {
      "cell_type": "code",
      "source": [
        "#maxmium of three numbers\n",
        "a=int(input(\"enter number\"))\n",
        "b=int(input(\"enter second number\"))\n",
        "c=int(input(\"enter third number\"))\n",
        "if(a>b and a>c):\n",
        " print(\"a is greater\")\n",
        "elif(b>c and b>a):\n",
        " print(\"b is greater\")\n",
        "else:\n",
        " print(\"c is greaer\")"
      ],
      "metadata": {
        "colab": {
          "base_uri": "https://localhost:8080/"
        },
        "id": "tlRk34BdTCRh",
        "outputId": "58782d2a-91f9-48a0-e335-eaf7be19dc1f"
      },
      "execution_count": null,
      "outputs": [
        {
          "output_type": "stream",
          "name": "stdout",
          "text": [
            "enter number45\n",
            "enter second number67\n",
            "enter third number78\n",
            "c is greaer\n"
          ]
        }
      ]
    },
    {
      "cell_type": "code",
      "source": [
        "#Check whether the triangle is equilateral, isosceles, or scalene triangle.\n",
        "a=int(input(\"enter side 1\"))\n",
        "b=int(input(\"enter side 2\"))\n",
        "c=int(input(\"enter side 3\"))\n",
        "if(a+b>c and a+c>b and b+c>a):\n",
        " if(a==b and b==c):\n",
        "  print(\"equilateral\")\n",
        " elif(a==b):\n",
        "   print(\"isosceles\")\n",
        " else:\n",
        "   print(\"scalene\")"
      ],
      "metadata": {
        "colab": {
          "base_uri": "https://localhost:8080/"
        },
        "id": "SD0Qofq3ZSku",
        "outputId": "62f4164b-0215-4266-e111-6240b3739b5c"
      },
      "execution_count": null,
      "outputs": [
        {
          "output_type": "stream",
          "name": "stdout",
          "text": [
            "enter side 111\n",
            "enter side 211\n",
            "enter side 311\n",
            "equilateral\n"
          ]
        }
      ]
    },
    {
      "cell_type": "code",
      "source": [
        "#"
      ],
      "metadata": {
        "id": "JXCjtGLLecAF"
      },
      "execution_count": null,
      "outputs": []
    }
  ]
}