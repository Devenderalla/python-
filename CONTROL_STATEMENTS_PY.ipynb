{
  "nbformat": 4,
  "nbformat_minor": 0,
  "metadata": {
    "colab": {
      "name": "CONTROL STATEMENTS.PY",
      "provenance": [],
      "authorship_tag": "ABX9TyOPaZzS/6wnj/+mWv0G3yXG",
      "include_colab_link": true
    },
    "kernelspec": {
      "name": "python3",
      "display_name": "Python 3"
    },
    "language_info": {
      "name": "python"
    }
  },
  "cells": [
    {
      "cell_type": "markdown",
      "metadata": {
        "id": "view-in-github",
        "colab_type": "text"
      },
      "source": [
        "<a href=\"https://colab.research.google.com/github/Devenderalla/python-/blob/main/CONTROL_STATEMENTS_PY.ipynb\" target=\"_parent\"><img src=\"https://colab.research.google.com/assets/colab-badge.svg\" alt=\"Open In Colab\"/></a>"
      ]
    },
    {
      "cell_type": "markdown",
      "source": [
        "#find out the person is eligible for voting or not\n",
        "\n"
      ],
      "metadata": {
        "id": "yWYiyq4FtHYz"
      }
    },
    {
      "cell_type": "code",
      "source": [
        "a=int(input(\"enter age :\"))\n",
        "if(a>=18):\n",
        " print(\"eligible\")\n",
        "else:\n",
        " print(\"not eligible\")"
      ],
      "metadata": {
        "colab": {
          "base_uri": "https://localhost:8080/"
        },
        "id": "tFpUG4IitKEO",
        "outputId": "ee4758fe-f799-4982-cd0d-e8aed75bcff9"
      },
      "execution_count": 2,
      "outputs": [
        {
          "output_type": "stream",
          "name": "stdout",
          "text": [
            "enter age :19\n",
            "eligible\n"
          ]
        }
      ]
    },
    {
      "cell_type": "code",
      "source": [
        "a=int(input(\"enter age :\"))\n",
        "if(a>=18):\n",
        " print(\"eligible\")\n",
        "else:\n",
        " print(\"not eligible\")"
      ],
      "metadata": {
        "colab": {
          "base_uri": "https://localhost:8080/"
        },
        "id": "lWEmzRmeteBm",
        "outputId": "edb59af9-10be-4a9f-ca87-6d7771dedc1b"
      },
      "execution_count": 3,
      "outputs": [
        {
          "output_type": "stream",
          "name": "stdout",
          "text": [
            "enter age :17\n",
            "not eligible\n"
          ]
        }
      ]
    },
    {
      "cell_type": "markdown",
      "source": [
        "#maxmium of three numbers\n"
      ],
      "metadata": {
        "id": "jVJ8u2Tatjz5"
      }
    },
    {
      "cell_type": "code",
      "source": [
        "a=int(input(\"enter number\"))\n",
        "b=int(input(\"enter second number\"))\n",
        "c=int(input(\"enter third number\"))\n",
        "if(a>b and a>c):\n",
        " print(\"a is greater\")\n",
        "elif(b>c and b>a):\n",
        " print(\"b is greater\")\n",
        "else:\n",
        " print(\"c is greaer\")\n"
      ],
      "metadata": {
        "colab": {
          "base_uri": "https://localhost:8080/"
        },
        "id": "bY3YIo9ltwEl",
        "outputId": "dff329f0-0379-49d0-ec68-7aee0491ad4a"
      },
      "execution_count": 4,
      "outputs": [
        {
          "output_type": "stream",
          "name": "stdout",
          "text": [
            "enter number25\n",
            "enter second number74\n",
            "enter third number45\n",
            "b is greater\n"
          ]
        }
      ]
    },
    {
      "cell_type": "markdown",
      "source": [
        "#Check whether the triangle is equilateral, isosceles, or scalene triangle."
      ],
      "metadata": {
        "id": "OyvLOxXgt_09"
      }
    },
    {
      "cell_type": "code",
      "source": [
        "a=int(input(\"enter side 1\"))\n",
        "b=int(input(\"enter side 2\"))\n",
        "c=int(input(\"enter side 3\"))\n",
        "if(a+b>c and a+c>b and b+c>a):\n",
        " if(a==b and b==c):\n",
        "  print(\"equilateral\")\n",
        " elif(a==b):\n",
        "   print(\"isosceles\")\n",
        " else:\n",
        "   print(\"scalene\")"
      ],
      "metadata": {
        "colab": {
          "base_uri": "https://localhost:8080/"
        },
        "id": "ZZYFAGyauFIv",
        "outputId": "d2395cca-25ca-4a1f-e530-5a73816d06af"
      },
      "execution_count": 5,
      "outputs": [
        {
          "output_type": "stream",
          "name": "stdout",
          "text": [
            "enter side 123\n",
            "enter side 233\n",
            "enter side 333\n",
            "scalene\n"
          ]
        }
      ]
    },
    {
      "cell_type": "markdown",
      "source": [
        "#Check whether entered year is a leap year or not"
      ],
      "metadata": {
        "id": "EKYElAY2uePe"
      }
    },
    {
      "cell_type": "code",
      "source": [
        "a=int(input(\"enter an year\"))\n",
        "if a%400==0 and a%100==0:\n",
        "  print(\"leap year\")\n",
        "elif a%4==0 and a%100!=0:\n",
        "  print(\"leap year\")\n",
        "else:\n",
        "  print(\"not leap year\")"
      ],
      "metadata": {
        "colab": {
          "base_uri": "https://localhost:8080/"
        },
        "id": "3i3SbJTPvkb4",
        "outputId": "a6b84069-997b-47e7-c3ef-5031e7216eb3"
      },
      "execution_count": 16,
      "outputs": [
        {
          "output_type": "stream",
          "name": "stdout",
          "text": [
            "enter an year2400\n",
            "leap year\n"
          ]
        }
      ]
    },
    {
      "cell_type": "markdown",
      "source": [
        "#Check whether a number is divisible by 5 and 11 or not"
      ],
      "metadata": {
        "id": "tAj9gnz1zJuX"
      }
    },
    {
      "cell_type": "code",
      "source": [
        "a=int(input(\"enter the num\"))\n",
        "if a%5==0 and a%11==0:\n",
        "  print(\"divisible\")\n",
        "else:\n",
        "  print(\"not divisible\")\n"
      ],
      "metadata": {
        "colab": {
          "base_uri": "https://localhost:8080/"
        },
        "id": "r4-H0EZfzWBb",
        "outputId": "eb4c438f-d980-4e50-fea6-8458c695bfc4"
      },
      "execution_count": 19,
      "outputs": [
        {
          "output_type": "stream",
          "name": "stdout",
          "text": [
            "enter the num55\n",
            "divisible\n"
          ]
        }
      ]
    },
    {
      "cell_type": "markdown",
      "source": [
        "# Check whether a number is positive, negative or zero"
      ],
      "metadata": {
        "id": "V_j7-_5B0pti"
      }
    },
    {
      "cell_type": "code",
      "source": [
        "a=int(input(\"enter a number\"))\n",
        "if a>0:\n",
        "  print(\"positive\")\n",
        "elif a<0:\n",
        "  print(\"negitive\")\n",
        "else:\n",
        "  print(\"zero\")"
      ],
      "metadata": {
        "colab": {
          "base_uri": "https://localhost:8080/"
        },
        "id": "Rl2_LFhD05Ww",
        "outputId": "7d6c262b-8ca4-400b-b02d-ab5f73763034"
      },
      "execution_count": 23,
      "outputs": [
        {
          "output_type": "stream",
          "name": "stdout",
          "text": [
            "enter a number-23\n",
            "negitive\n"
          ]
        }
      ]
    },
    {
      "cell_type": "markdown",
      "source": [
        "#Check whether number is a palindrome or not"
      ],
      "metadata": {
        "id": "YERW56Ec2wS_"
      }
    },
    {
      "cell_type": "code",
      "source": [
        "n=int(input(\"enter a number\"))\n",
        "k=n\n",
        "rev=0\n",
        "while n>0:\n",
        "  r=n%10\n",
        "  rev=rev*10+r\n",
        "  n//=10\n",
        "if k==rev:\n",
        "   print(\"palindrone\")\n",
        "else:\n",
        "   print(\"not palindrone\")\n"
      ],
      "metadata": {
        "colab": {
          "base_uri": "https://localhost:8080/"
        },
        "id": "Ly1fYj-W27Rc",
        "outputId": "a0125818-ad66-4fbe-ac5f-07e5a92beb27"
      },
      "execution_count": 10,
      "outputs": [
        {
          "output_type": "stream",
          "name": "stdout",
          "text": [
            "enter a number121\n",
            "palindrone\n"
          ]
        }
      ]
    },
    {
      "cell_type": "markdown",
      "source": [
        "#Find factorial of a number\n"
      ],
      "metadata": {
        "id": "8gJwGBDfcbtP"
      }
    },
    {
      "cell_type": "code",
      "source": [
        "n=int(input(\"enter a number\"))\n",
        "i=1\n",
        "f=1\n",
        "while i<=n:\n",
        "  f=f*i\n",
        "  i=i+1\n",
        "print(f)\n",
        "\n",
        "\n"
      ],
      "metadata": {
        "colab": {
          "base_uri": "https://localhost:8080/"
        },
        "id": "3VKGjnWUcmcD",
        "outputId": "44594d3e-639b-4b3f-eedf-02cba2f46aa1"
      },
      "execution_count": 12,
      "outputs": [
        {
          "output_type": "stream",
          "name": "stdout",
          "text": [
            "enter a number5\n",
            "120\n"
          ]
        }
      ]
    },
    {
      "cell_type": "markdown",
      "source": [
        "#Check whether number is perfect or not"
      ],
      "metadata": {
        "id": "Bbur6Rj3hDRO"
      }
    },
    {
      "cell_type": "code",
      "source": [
        "n=int(input(\"enter a number\"))\n",
        "i=1\n",
        "sum=0\n",
        "while(i<n):\n",
        "  if n%i==0:\n",
        "    sum=sum+i\n",
        "  i=i+1\n",
        "if sum==n:\n",
        "  print(\"perfect num\")\n",
        "else:\n",
        "  print(\"not a perfect num\")\n"
      ],
      "metadata": {
        "colab": {
          "base_uri": "https://localhost:8080/"
        },
        "id": "-QpoY5LJhS1b",
        "outputId": "3353d733-743f-4c0a-f5f9-dc27ea7957ec"
      },
      "execution_count": 17,
      "outputs": [
        {
          "output_type": "stream",
          "name": "stdout",
          "text": [
            "enter a number6\n",
            "perfect num\n"
          ]
        }
      ]
    }
  ]
}