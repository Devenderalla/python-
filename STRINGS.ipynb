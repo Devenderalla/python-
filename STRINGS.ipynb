{
  "nbformat": 4,
  "nbformat_minor": 0,
  "metadata": {
    "colab": {
      "name": "STRINGS",
      "provenance": [],
      "authorship_tag": "ABX9TyPCs5SUSCvZduHN9ZbgTP5H",
      "include_colab_link": true
    },
    "kernelspec": {
      "name": "python3",
      "display_name": "Python 3"
    },
    "language_info": {
      "name": "python"
    }
  },
  "cells": [
    {
      "cell_type": "markdown",
      "metadata": {
        "id": "view-in-github",
        "colab_type": "text"
      },
      "source": [
        "<a href=\"https://colab.research.google.com/github/Devenderalla/python-/blob/main/STRINGS.ipynb\" target=\"_parent\"><img src=\"https://colab.research.google.com/assets/colab-badge.svg\" alt=\"Open In Colab\"/></a>"
      ]
    },
    {
      "cell_type": "code",
      "execution_count": 4,
      "metadata": {
        "colab": {
          "base_uri": "https://localhost:8080/"
        },
        "id": "l748lgNi46ih",
        "outputId": "f2d04001-e0af-46ae-fda7-ad207d1a705e"
      },
      "outputs": [
        {
          "output_type": "stream",
          "name": "stdout",
          "text": [
            "namedevender\n",
            "coming fromict\n",
            "name devender\n",
            "coming from ict\n"
          ]
        }
      ],
      "source": [
        "a=str(input(\"name\"))\n",
        "b=str(input(\"coming from\"))\n",
        "print(\"name\",a)\n",
        "print(\"coming from\",b)\n"
      ]
    },
    {
      "cell_type": "markdown",
      "source": [
        "#length of string\n"
      ],
      "metadata": {
        "id": "WsTyGfxNAXbE"
      }
    },
    {
      "cell_type": "code",
      "source": [
        "a=str(input())\n",
        "print(len(a))"
      ],
      "metadata": {
        "colab": {
          "base_uri": "https://localhost:8080/"
        },
        "id": "kCo3TcxDAdJr",
        "outputId": "1d862b82-c09a-43de-f6e9-01314b2a97ee"
      },
      "execution_count": 8,
      "outputs": [
        {
          "output_type": "stream",
          "name": "stdout",
          "text": [
            "faren\n",
            "5\n"
          ]
        }
      ]
    },
    {
      "cell_type": "markdown",
      "source": [
        "#if not"
      ],
      "metadata": {
        "id": "dijMECNbBS0T"
      }
    },
    {
      "cell_type": "code",
      "source": [
        "a=(\"he is play the game\")\n",
        "print(\"game\" not in a)"
      ],
      "metadata": {
        "colab": {
          "base_uri": "https://localhost:8080/"
        },
        "id": "QyWpkg2FBUjG",
        "outputId": "4efd5c00-14da-4ed2-bb77-b2c1cf4fa301"
      },
      "execution_count": 11,
      "outputs": [
        {
          "output_type": "stream",
          "name": "stdout",
          "text": [
            "False\n"
          ]
        }
      ]
    },
    {
      "cell_type": "markdown",
      "source": [
        "#check string"
      ],
      "metadata": {
        "id": "nUQTxcilBvcD"
      }
    },
    {
      "cell_type": "code",
      "source": [
        "a=(\"he is play the game\")\n",
        "print(\"game\" in a,\"play\" in a)"
      ],
      "metadata": {
        "colab": {
          "base_uri": "https://localhost:8080/"
        },
        "id": "ShIxAp8ZBzGr",
        "outputId": "f9b380c3-2b0a-48dc-f1d4-e6138b4dabf4"
      },
      "execution_count": 21,
      "outputs": [
        {
          "output_type": "stream",
          "name": "stdout",
          "text": [
            "True True\n"
          ]
        }
      ]
    },
    {
      "cell_type": "markdown",
      "source": [
        "#slicing string"
      ],
      "metadata": {
        "id": "HGqo4s5CDlB_"
      }
    },
    {
      "cell_type": "code",
      "source": [
        "a=\"rrr is pan indian filim\"\n",
        "print(a[1:9])"
      ],
      "metadata": {
        "colab": {
          "base_uri": "https://localhost:8080/"
        },
        "id": "M82RxdgPDu0d",
        "outputId": "d24c831c-b2fc-4a18-c2e8-d3322ae2872a"
      },
      "execution_count": 28,
      "outputs": [
        {
          "output_type": "stream",
          "name": "stdout",
          "text": [
            "rr is pa\n"
          ]
        }
      ]
    },
    {
      "cell_type": "code",
      "source": [
        "a=\"rrr is pan indian filim\"\n",
        "print(a[:9])"
      ],
      "metadata": {
        "colab": {
          "base_uri": "https://localhost:8080/"
        },
        "id": "TrySwym5G4wm",
        "outputId": "53bf9404-f8d7-4946-d15e-7a41d07f9473"
      },
      "execution_count": 29,
      "outputs": [
        {
          "output_type": "stream",
          "name": "stdout",
          "text": [
            "rrr is pa\n"
          ]
        }
      ]
    },
    {
      "cell_type": "code",
      "source": [
        "a=\"rrr is pan indian filim\"\n",
        "print(a[11:])"
      ],
      "metadata": {
        "colab": {
          "base_uri": "https://localhost:8080/"
        },
        "id": "kwR-YsOfHIqq",
        "outputId": "97d459cd-cbe0-41d9-a1ed-afad5c38609e"
      },
      "execution_count": 30,
      "outputs": [
        {
          "output_type": "stream",
          "name": "stdout",
          "text": [
            "indian filim\n"
          ]
        }
      ]
    },
    {
      "cell_type": "markdown",
      "source": [
        "#modify strings"
      ],
      "metadata": {
        "id": "cgxFjpP4GMkQ"
      }
    },
    {
      "cell_type": "code",
      "source": [
        "a=\"hello world\"\n",
        "print(a.lower())\n",
        "print(a.upper())\n",
        "print(a.replace(\"h\",\"a\"))\n",
        "print(a.strip())\n",
        "print(a.split())\n",
        "print(a.capitalize())"
      ],
      "metadata": {
        "colab": {
          "base_uri": "https://localhost:8080/"
        },
        "id": "dRJUBqdIGbBb",
        "outputId": "1f2ffef6-6be9-403a-8abe-c2362f4729eb"
      },
      "execution_count": 41,
      "outputs": [
        {
          "output_type": "stream",
          "name": "stdout",
          "text": [
            "hello world\n",
            "HELLO WORLD\n",
            "aello world\n",
            "hello world\n",
            "['hello', 'world']\n",
            "Hello world\n"
          ]
        }
      ]
    },
    {
      "cell_type": "markdown",
      "source": [
        "#String Concatenation"
      ],
      "metadata": {
        "id": "2SPlywJSLYhX"
      }
    },
    {
      "cell_type": "code",
      "source": [
        "a=\"dev\"\n",
        "b=\"ender\"\n",
        "print(a+b)"
      ],
      "metadata": {
        "colab": {
          "base_uri": "https://localhost:8080/"
        },
        "id": "T6gBFjmbLvRh",
        "outputId": "47c537b3-a8fd-437b-ed36-24b7fb08b679"
      },
      "execution_count": 42,
      "outputs": [
        {
          "output_type": "stream",
          "name": "stdout",
          "text": [
            "devender\n"
          ]
        }
      ]
    },
    {
      "cell_type": "code",
      "source": [
        "a=\"dev\"\n",
        "b=\"ender\"\n",
        "print(a,b)"
      ],
      "metadata": {
        "colab": {
          "base_uri": "https://localhost:8080/"
        },
        "id": "mzg0LHjpMXaq",
        "outputId": "b00048fb-a7b7-4bf0-9712-bbf88f4cc516"
      },
      "execution_count": 43,
      "outputs": [
        {
          "output_type": "stream",
          "name": "stdout",
          "text": [
            "dev ender\n"
          ]
        }
      ]
    },
    {
      "cell_type": "markdown",
      "source": [
        "#formet string"
      ],
      "metadata": {
        "id": "SyxsrXxcNFNj"
      }
    },
    {
      "cell_type": "code",
      "source": [
        "age = 36\n",
        "txt = \"My name is John, and I am {}\"\n",
        "print(txt.format(age))"
      ],
      "metadata": {
        "colab": {
          "base_uri": "https://localhost:8080/"
        },
        "id": "pFkdSNiNNek3",
        "outputId": "475a87ed-3dca-4734-8b26-2ae215d499ac"
      },
      "execution_count": 46,
      "outputs": [
        {
          "output_type": "stream",
          "name": "stdout",
          "text": [
            "My name is John, and I am 36\n"
          ]
        }
      ]
    },
    {
      "cell_type": "code",
      "source": [
        "rrr=250\n",
        "kgf=250\n",
        "movies=\"recently i went to rrr movie the ticket is{}and after two weeks the kgf is releasing the ticket is{}\"\n",
        "print(movies.format(rrr,kgf))"
      ],
      "metadata": {
        "colab": {
          "base_uri": "https://localhost:8080/"
        },
        "id": "AUmYAEAoPXNK",
        "outputId": "4e564a8b-83d0-492a-9ff9-d2d21d7c2b94"
      },
      "execution_count": 50,
      "outputs": [
        {
          "output_type": "stream",
          "name": "stdout",
          "text": [
            "recently i went to rrr movie the ticket is250and after two weeks the kgf is releasing the ticket is250\n"
          ]
        }
      ]
    }
  ]
}