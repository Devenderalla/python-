{
  "nbformat": 4,
  "nbformat_minor": 0,
  "metadata": {
    "colab": {
      "name": " STRINGS",
      "provenance": [],
      "authorship_tag": "ABX9TyMh0Ky3Q8lwTHOMRkfN4bQA",
      "include_colab_link": true
    },
    "kernelspec": {
      "name": "python3",
      "display_name": "Python 3"
    },
    "language_info": {
      "name": "python"
    }
  },
  "cells": [
    {
      "cell_type": "markdown",
      "metadata": {
        "id": "view-in-github",
        "colab_type": "text"
      },
      "source": [
        "<a href=\"https://colab.research.google.com/github/Devenderalla/python-/blob/main/STRINGS.ipynb\" target=\"_parent\"><img src=\"https://colab.research.google.com/assets/colab-badge.svg\" alt=\"Open In Colab\"/></a>"
      ]
    },
    {
      "cell_type": "code",
      "execution_count": null,
      "metadata": {
        "colab": {
          "base_uri": "https://localhost:8080/"
        },
        "id": "l748lgNi46ih",
        "outputId": "f2d04001-e0af-46ae-fda7-ad207d1a705e"
      },
      "outputs": [
        {
          "output_type": "stream",
          "name": "stdout",
          "text": [
            "namedevender\n",
            "coming fromict\n",
            "name devender\n",
            "coming from ict\n"
          ]
        }
      ],
      "source": [
        "a=str(input(\"name\"))\n",
        "b=str(input(\"coming from\"))\n",
        "print(\"name\",a)\n",
        "print(\"coming from\",b)\n"
      ]
    },
    {
      "cell_type": "markdown",
      "source": [
        "#length of string\n"
      ],
      "metadata": {
        "id": "WsTyGfxNAXbE"
      }
    },
    {
      "cell_type": "code",
      "source": [
        "a=str(input())\n",
        "print(len(a))"
      ],
      "metadata": {
        "colab": {
          "base_uri": "https://localhost:8080/"
        },
        "id": "kCo3TcxDAdJr",
        "outputId": "1d862b82-c09a-43de-f6e9-01314b2a97ee"
      },
      "execution_count": null,
      "outputs": [
        {
          "output_type": "stream",
          "name": "stdout",
          "text": [
            "faren\n",
            "5\n"
          ]
        }
      ]
    },
    {
      "cell_type": "markdown",
      "source": [
        "#if not"
      ],
      "metadata": {
        "id": "dijMECNbBS0T"
      }
    },
    {
      "cell_type": "code",
      "source": [
        "a=(\"he is play the game\")\n",
        "print(\"game\" not in a)"
      ],
      "metadata": {
        "colab": {
          "base_uri": "https://localhost:8080/"
        },
        "id": "QyWpkg2FBUjG",
        "outputId": "4efd5c00-14da-4ed2-bb77-b2c1cf4fa301"
      },
      "execution_count": null,
      "outputs": [
        {
          "output_type": "stream",
          "name": "stdout",
          "text": [
            "False\n"
          ]
        }
      ]
    },
    {
      "cell_type": "markdown",
      "source": [
        "#check string"
      ],
      "metadata": {
        "id": "nUQTxcilBvcD"
      }
    },
    {
      "cell_type": "code",
      "source": [
        "a=(\"he is play the game\")\n",
        "print(\"game\" in a,\"play\" in a)"
      ],
      "metadata": {
        "colab": {
          "base_uri": "https://localhost:8080/"
        },
        "id": "ShIxAp8ZBzGr",
        "outputId": "f9b380c3-2b0a-48dc-f1d4-e6138b4dabf4"
      },
      "execution_count": null,
      "outputs": [
        {
          "output_type": "stream",
          "name": "stdout",
          "text": [
            "True True\n"
          ]
        }
      ]
    },
    {
      "cell_type": "markdown",
      "source": [
        "#slicing string"
      ],
      "metadata": {
        "id": "HGqo4s5CDlB_"
      }
    },
    {
      "cell_type": "code",
      "source": [
        "a=\"rrr is pan indian filim\"\n",
        "print(a[1:9])"
      ],
      "metadata": {
        "colab": {
          "base_uri": "https://localhost:8080/"
        },
        "id": "M82RxdgPDu0d",
        "outputId": "d24c831c-b2fc-4a18-c2e8-d3322ae2872a"
      },
      "execution_count": null,
      "outputs": [
        {
          "output_type": "stream",
          "name": "stdout",
          "text": [
            "rr is pa\n"
          ]
        }
      ]
    },
    {
      "cell_type": "code",
      "source": [
        "a=\"rrr is pan indian filim\"\n",
        "print(a[:9])"
      ],
      "metadata": {
        "colab": {
          "base_uri": "https://localhost:8080/"
        },
        "id": "TrySwym5G4wm",
        "outputId": "53bf9404-f8d7-4946-d15e-7a41d07f9473"
      },
      "execution_count": null,
      "outputs": [
        {
          "output_type": "stream",
          "name": "stdout",
          "text": [
            "rrr is pa\n"
          ]
        }
      ]
    },
    {
      "cell_type": "code",
      "source": [
        "a=\"rrr is pan indian filim\"\n",
        "print(a[11:])"
      ],
      "metadata": {
        "colab": {
          "base_uri": "https://localhost:8080/"
        },
        "id": "kwR-YsOfHIqq",
        "outputId": "97d459cd-cbe0-41d9-a1ed-afad5c38609e"
      },
      "execution_count": null,
      "outputs": [
        {
          "output_type": "stream",
          "name": "stdout",
          "text": [
            "indian filim\n"
          ]
        }
      ]
    },
    {
      "cell_type": "markdown",
      "source": [
        "#modify strings"
      ],
      "metadata": {
        "id": "cgxFjpP4GMkQ"
      }
    },
    {
      "cell_type": "code",
      "source": [
        "a=\"hello world\"\n",
        "print(a.lower())\n",
        "print(a.upper())\n",
        "print(a.replace(\"h\",\"a\"))\n",
        "print(a.strip())\n",
        "print(a.split())\n",
        "print(a.capitalize())"
      ],
      "metadata": {
        "colab": {
          "base_uri": "https://localhost:8080/"
        },
        "id": "dRJUBqdIGbBb",
        "outputId": "1f2ffef6-6be9-403a-8abe-c2362f4729eb"
      },
      "execution_count": null,
      "outputs": [
        {
          "output_type": "stream",
          "name": "stdout",
          "text": [
            "hello world\n",
            "HELLO WORLD\n",
            "aello world\n",
            "hello world\n",
            "['hello', 'world']\n",
            "Hello world\n"
          ]
        }
      ]
    },
    {
      "cell_type": "markdown",
      "source": [
        "#String Concatenation"
      ],
      "metadata": {
        "id": "2SPlywJSLYhX"
      }
    },
    {
      "cell_type": "code",
      "source": [
        "a=\"dev\"\n",
        "b=\"ender\"\n",
        "print(a+b)"
      ],
      "metadata": {
        "colab": {
          "base_uri": "https://localhost:8080/"
        },
        "id": "T6gBFjmbLvRh",
        "outputId": "47c537b3-a8fd-437b-ed36-24b7fb08b679"
      },
      "execution_count": null,
      "outputs": [
        {
          "output_type": "stream",
          "name": "stdout",
          "text": [
            "devender\n"
          ]
        }
      ]
    },
    {
      "cell_type": "code",
      "source": [
        "a=\"dev\"\n",
        "b=\"ender\"\n",
        "print(a,b)"
      ],
      "metadata": {
        "colab": {
          "base_uri": "https://localhost:8080/"
        },
        "id": "mzg0LHjpMXaq",
        "outputId": "b00048fb-a7b7-4bf0-9712-bbf88f4cc516"
      },
      "execution_count": null,
      "outputs": [
        {
          "output_type": "stream",
          "name": "stdout",
          "text": [
            "dev ender\n"
          ]
        }
      ]
    },
    {
      "cell_type": "markdown",
      "source": [
        "#formet string"
      ],
      "metadata": {
        "id": "SyxsrXxcNFNj"
      }
    },
    {
      "cell_type": "code",
      "source": [
        "age = 36\n",
        "txt = \"My name is John, and I am {}\"\n",
        "print(txt.format(age))"
      ],
      "metadata": {
        "colab": {
          "base_uri": "https://localhost:8080/"
        },
        "id": "pFkdSNiNNek3",
        "outputId": "475a87ed-3dca-4734-8b26-2ae215d499ac"
      },
      "execution_count": null,
      "outputs": [
        {
          "output_type": "stream",
          "name": "stdout",
          "text": [
            "My name is John, and I am 36\n"
          ]
        }
      ]
    },
    {
      "cell_type": "code",
      "source": [
        "rrr=250\n",
        "kgf=250\n",
        "movies=\"recently i went to rrr movie the ticket is{}and after two weeks the kgf is releasing the ticket is{}\"\n",
        "print(movies.format(rrr,kgf))"
      ],
      "metadata": {
        "colab": {
          "base_uri": "https://localhost:8080/"
        },
        "id": "AUmYAEAoPXNK",
        "outputId": "4e564a8b-83d0-492a-9ff9-d2d21d7c2b94"
      },
      "execution_count": null,
      "outputs": [
        {
          "output_type": "stream",
          "name": "stdout",
          "text": [
            "recently i went to rrr movie the ticket is250and after two weeks the kgf is releasing the ticket is250\n"
          ]
        }
      ]
    },
    {
      "cell_type": "markdown",
      "source": [
        "#Escape charecters "
      ],
      "metadata": {
        "id": "30S1Ish-7Qfy"
      }
    },
    {
      "cell_type": "code",
      "source": [
        "txt = \"Hello\\tWorld!\"\n",
        "print(txt) "
      ],
      "metadata": {
        "colab": {
          "base_uri": "https://localhost:8080/"
        },
        "id": "xh1fvvG581mX",
        "outputId": "3036f389-aa50-4db4-a366-741bd260d1d6"
      },
      "execution_count": null,
      "outputs": [
        {
          "output_type": "stream",
          "name": "stdout",
          "text": [
            "Hello\tWorld!\n"
          ]
        }
      ]
    },
    {
      "cell_type": "code",
      "source": [
        "txt = \"Hello\\nWorld!\"\n",
        "print(txt) "
      ],
      "metadata": {
        "colab": {
          "base_uri": "https://localhost:8080/"
        },
        "id": "zaxNbg_d839v",
        "outputId": "fc91fdde-3474-4b9c-e2e5-d2c27ef2229d"
      },
      "execution_count": null,
      "outputs": [
        {
          "output_type": "stream",
          "name": "stdout",
          "text": [
            "Hello\n",
            "World!\n"
          ]
        }
      ]
    },
    {
      "cell_type": "code",
      "source": [
        "txt = \"Hello \\bWorld!\"\n",
        "print(txt) \n"
      ],
      "metadata": {
        "colab": {
          "base_uri": "https://localhost:8080/"
        },
        "id": "O4VsFUm79Rzi",
        "outputId": "1c8dbd20-d4b3-420a-8f0e-411b641e722f"
      },
      "execution_count": null,
      "outputs": [
        {
          "output_type": "stream",
          "name": "stdout",
          "text": [
            "Hello \bWorld!\n"
          ]
        }
      ]
    },
    {
      "cell_type": "markdown",
      "source": [
        "#String Methods"
      ],
      "metadata": {
        "id": "w9bdA0sa-FJi"
      }
    },
    {
      "cell_type": "code",
      "source": [
        "a=\"new movies\"\n",
        "b=a.center(100)\n",
        "print(b)"
      ],
      "metadata": {
        "colab": {
          "base_uri": "https://localhost:8080/"
        },
        "id": "Ktn0uR55BIXk",
        "outputId": "853119af-19d3-4bb1-bbbd-a1dbe19c4b86"
      },
      "execution_count": null,
      "outputs": [
        {
          "output_type": "stream",
          "name": "stdout",
          "text": [
            "                                             new movies                                             \n"
          ]
        }
      ]
    },
    {
      "cell_type": "code",
      "source": [
        "a=\"I love apples, apple are my favorite apples fruit\"\n",
        "b=a.count(\"apple\")\n",
        "print(b)\n"
      ],
      "metadata": {
        "colab": {
          "base_uri": "https://localhost:8080/"
        },
        "id": "8uhnC7EvByge",
        "outputId": "610f7ab2-99b5-4469-bf3c-0fdfab0a7573"
      },
      "execution_count": null,
      "outputs": [
        {
          "output_type": "stream",
          "name": "stdout",
          "text": [
            "3\n"
          ]
        }
      ]
    },
    {
      "cell_type": "code",
      "source": [
        "a=\"Hello, welcome to my world\"\n",
        "b=a.endswith(\"d\")\n",
        "print(b)"
      ],
      "metadata": {
        "colab": {
          "base_uri": "https://localhost:8080/"
        },
        "id": "HnP2i974HEMY",
        "outputId": "8e6543f9-ea05-4523-fef4-b026513e94cd"
      },
      "execution_count": null,
      "outputs": [
        {
          "output_type": "stream",
          "name": "stdout",
          "text": [
            "True\n"
          ]
        }
      ]
    },
    {
      "cell_type": "code",
      "source": [
        "a=\"Hello, welcome to my world.\"\n",
        "b=a.find(\"Hello\")\n",
        "print(b)"
      ],
      "metadata": {
        "colab": {
          "base_uri": "https://localhost:8080/"
        },
        "id": "QUUWRajFHdux",
        "outputId": "c005103b-239c-46bb-8630-99f428e57788"
      },
      "execution_count": null,
      "outputs": [
        {
          "output_type": "stream",
          "name": "stdout",
          "text": [
            "0\n"
          ]
        }
      ]
    },
    {
      "cell_type": "code",
      "source": [
        "a=\"Hello, welcome to my world.\"\n",
        "b=a.find(\"e\",6,11)\n",
        "print(b)"
      ],
      "metadata": {
        "colab": {
          "base_uri": "https://localhost:8080/"
        },
        "id": "c8wr6E-bLFe_",
        "outputId": "52d82569-d75a-43c1-bfe2-aa0c8305ba27"
      },
      "execution_count": 3,
      "outputs": [
        {
          "output_type": "stream",
          "name": "stdout",
          "text": [
            "8\n"
          ]
        }
      ]
    }
  ]
}