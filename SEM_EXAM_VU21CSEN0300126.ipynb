{
  "nbformat": 4,
  "nbformat_minor": 0,
  "metadata": {
    "colab": {
      "name": "SEM EXAM VU21CSEN0300126.ipynb",
      "provenance": [],
      "authorship_tag": "ABX9TyMwxtECmeJv9HCQEMe1eqal",
      "include_colab_link": true
    },
    "kernelspec": {
      "name": "python3",
      "display_name": "Python 3"
    },
    "language_info": {
      "name": "python"
    }
  },
  "cells": [
    {
      "cell_type": "markdown",
      "metadata": {
        "id": "view-in-github",
        "colab_type": "text"
      },
      "source": [
        "<a href=\"https://colab.research.google.com/github/Devenderalla/python-/blob/main/SEM_EXAM_VU21CSEN0300126.ipynb\" target=\"_parent\"><img src=\"https://colab.research.google.com/assets/colab-badge.svg\" alt=\"Open In Colab\"/></a>"
      ]
    },
    {
      "cell_type": "markdown",
      "source": [
        "#1)programe making different subjects and display the grade"
      ],
      "metadata": {
        "id": "YZWtztF3XJuR"
      }
    },
    {
      "cell_type": "code",
      "execution_count": 2,
      "metadata": {
        "colab": {
          "base_uri": "https://localhost:8080/"
        },
        "id": "N5eJk9BaWTF5",
        "outputId": "9f0c6903-d92d-442e-dc70-3d5388441a0c"
      },
      "outputs": [
        {
          "output_type": "stream",
          "name": "stdout",
          "text": [
            "marks of one sub99\n",
            "marks of second sub85\n",
            "marks of third sub66\n",
            "marks of forth sub55\n",
            "marks of fifth sub44\n",
            "o grade\n"
          ]
        }
      ],
      "source": [
        "a=int (input(\"marks of one sub\"))\n",
        "b=int (input(\"marks of second sub\"))\n",
        "c=int (input(\"marks of third sub\"))\n",
        "d=int (input(\"marks of forth sub\"))\n",
        "e=int (input(\"marks of fifth sub\"))\n",
        "avg=a+b+c+d+e/5\n",
        "if avg >=90:\n",
        "   print(\"o grade\")\n",
        "elif avg >=80:\n",
        "    print(\"A+ grade\")\n",
        "elif avg >=70:\n",
        "    print(\"A grade\")\n",
        "elif avg >=60:\n",
        "     print(\"B grade\")\n",
        "elif avg >=50:\n",
        "     print(\"B+ grade\")\n",
        "else:\n",
        "    print(\"fail\")    \n"
      ]
    },
    {
      "cell_type": "markdown",
      "source": [
        "#2)A By using recursion function generate fibonoci series"
      ],
      "metadata": {
        "id": "NyEKt_RCY15S"
      }
    },
    {
      "cell_type": "code",
      "source": [
        "n=int(input())\n",
        "a=0 ; b=1\n",
        "print(a)\n",
        "print(b)\n",
        "for i in range (n-2):\n",
        "  temp= b\n",
        "  b=a+b\n",
        "  print(tem p)"
      ],
      "metadata": {
        "colab": {
          "base_uri": "https://localhost:8080/",
          "height": 130
        },
        "id": "fZ0zSTGaZCNh",
        "outputId": "7facad2f-7dd2-4b18-ebe8-1769823d083d"
      },
      "execution_count": 6,
      "outputs": [
        {
          "output_type": "error",
          "ename": "SyntaxError",
          "evalue": "ignored",
          "traceback": [
            "\u001b[0;36m  File \u001b[0;32m\"<ipython-input-6-775150bde30f>\"\u001b[0;36m, line \u001b[0;32m8\u001b[0m\n\u001b[0;31m    print(tem p)\u001b[0m\n\u001b[0m              ^\u001b[0m\n\u001b[0;31mSyntaxError\u001b[0m\u001b[0;31m:\u001b[0m invalid syntax\n"
          ]
        }
      ]
    },
    {
      "cell_type": "markdown",
      "source": [
        "#2)B given a list of numbers and write a pythone code to print or even number in the list"
      ],
      "metadata": {
        "id": "nPn0reuHYEeP"
      }
    },
    {
      "cell_type": "code",
      "source": [
        "a=list(map(int,input().rstrip().rsplit()))\n",
        "for i in range (len(a)):\n",
        "  if a[i]%2==0:\n",
        "    print(a[i])"
      ],
      "metadata": {
        "colab": {
          "base_uri": "https://localhost:8080/"
        },
        "id": "lH1QPCYrYCwY",
        "outputId": "6f04cebd-b402-4e87-e299-5fb61e37415f"
      },
      "execution_count": 5,
      "outputs": [
        {
          "output_type": "stream",
          "name": "stdout",
          "text": [
            "4\n",
            "4\n"
          ]
        }
      ]
    },
    {
      "cell_type": "markdown",
      "source": [
        "#3) Read number from the file and write even and the odd numbers in seperate file."
      ],
      "metadata": {
        "id": "wqH7eLXXZNsK"
      }
    },
    {
      "cell_type": "code",
      "source": [
        "c=f.open(\"c:\\\\number\")\n",
        "for i in a\n",
        "if i%2 ==0\n",
        "b=f.open(\"c:\\\\even number\",a)\n",
        "b.write(i)\n",
        "else:\n",
        "     c=f.open(\"c:\\\\odd number\",q)\n",
        "     c.write(i)"
      ],
      "metadata": {
        "id": "5KvlLq9kZPgZ"
      },
      "execution_count": null,
      "outputs": []
    },
    {
      "cell_type": "markdown",
      "source": [
        "#5) generate the graph of pi chart by taking six subjects and display the marks in the graph"
      ],
      "metadata": {
        "id": "KCqwy6yWWfy5"
      }
    },
    {
      "cell_type": "code",
      "source": [
        "import matplotlib.pyplot as plt\n",
        "import numpy as np\n",
        "b=np.array([90,85,70,75,66,50])\n",
        "plt.pie(b)\n",
        "plt.show()"
      ],
      "metadata": {
        "colab": {
          "base_uri": "https://localhost:8080/",
          "height": 248
        },
        "id": "nBdrCSVNWcJ5",
        "outputId": "0a473ddb-1c98-4a51-eb12-2a4521b5f269"
      },
      "execution_count": 3,
      "outputs": [
        {
          "output_type": "display_data",
          "data": {
            "text/plain": [
              "<Figure size 432x288 with 1 Axes>"
            ],
            "image/png": "[encoded data removed]"
          },
          "metadata": {}
        }
      ]
    }
  ]
}