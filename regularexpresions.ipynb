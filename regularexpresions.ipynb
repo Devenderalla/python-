{
  "nbformat": 4,
  "nbformat_minor": 0,
  "metadata": {
    "colab": {
      "name": "regularexpresions.ipynb",
      "provenance": [],
      "authorship_tag": "ABX9TyMrgJvVby4rnAbJ+zaWeEwE",
      "include_colab_link": true
    },
    "kernelspec": {
      "name": "python3",
      "display_name": "Python 3"
    },
    "language_info": {
      "name": "python"
    }
  },
  "cells": [
    {
      "cell_type": "markdown",
      "metadata": {
        "id": "view-in-github",
        "colab_type": "text"
      },
      "source": [
        "<a href=\"https://colab.research.google.com/github/Devenderalla/python-/blob/main/regularexpresions.ipynb\" target=\"_parent\"><img src=\"https://colab.research.google.com/assets/colab-badge.svg\" alt=\"Open In Colab\"/></a>"
      ]
    },
    {
      "cell_type": "code",
      "execution_count": 4,
      "metadata": {
        "id": "Phrj5v5870IS",
        "colab": {
          "base_uri": "https://localhost:8080/"
        },
        "outputId": "612987eb-1862-4419-a255-71a1cb611540"
      },
      "outputs": [
        {
          "output_type": "stream",
          "name": "stdout",
          "text": [
            "having an exam\n"
          ]
        }
      ],
      "source": [
        "import re\n",
        "txt=\"good morning all of you exams starts from july middle and end at within four days\"\n",
        "x=re.search(\"^good.*days$\",txt)\n",
        "if x:\n",
        "  print(\"having an exam\")\n",
        "else:\n",
        "  print(\"no exam\")\n"
      ]
    },
    {
      "cell_type": "code",
      "source": [
        ""
      ],
      "metadata": {
        "id": "mdugpZtxAi1-"
      },
      "execution_count": null,
      "outputs": []
    }
  ]
}